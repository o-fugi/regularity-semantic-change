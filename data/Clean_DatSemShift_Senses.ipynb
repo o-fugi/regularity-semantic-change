{
  "nbformat": 4,
  "nbformat_minor": 0,
  "metadata": {
    "colab": {
      "name": "OH_DatSemShiftCleaning.ipynb",
      "provenance": [],
      "include_colab_link": true
    },
    "kernelspec": {
      "name": "python3",
      "display_name": "Python 3"
    },
    "language_info": {
      "name": "python"
    }
  },
  "cells": [
    {
      "cell_type": "markdown",
      "metadata": {
        "id": "view-in-github",
        "colab_type": "text"
      },
      "source": [
        "<a href=\"https://colab.research.google.com/github/o-fugi/systematicity-semantic-change/blob/main/data/Clean_DatSemShift_Senses.ipynb\" target=\"_parent\"><img src=\"https://colab.research.google.com/assets/colab-badge.svg\" alt=\"Open In Colab\"/></a>"
      ]
    },
    {
      "cell_type": "code",
      "source": [
        "import pandas as pd"
      ],
      "metadata": {
        "id": "RUkKg6mCiikc"
      },
      "execution_count": null,
      "outputs": []
    },
    {
      "cell_type": "code",
      "source": [
        "british_spellings = {\"vapour\":\"vapor\", \"honour\":\"honor\", \"organisation\":\"organization\", \"harbour\":\"harbor\", \"odour\":\"odor\", \"centre\":\"center\", \"analyse\":\"analyze\", \"theatre\":\"theater\", \"colour\":\"color\", \"rumour\":\"rumor\", \"behaviour\":\"behavior\", \"armour\":\"armor\", \"grey\":\"gray\", \n",
        "\"mould\":\"mold\", \"neighbour\":\"neighbor\", \"axe\":\"ax\", \"moustache\":\"mustache\", \"plough\":\"plow\", \"mandarine\":\"mandarin\"}\n",
        "words_to_replace = {\"adj\":\"\", \"gipsy\":\"\", \"albumen\":\"\", \"campanula\":\"\", \"boletus edulis\":\"penny bun fungus\", \"ursus\":\"\", \"swearword\":\"swear word\", 'adj.':\"\", \"coleus\":\"\", 'n.':\"\", 'ОК':\"ok\", \"typha\":\"cattail\", \"pacifica\":\"peaceful\", \"mustella\":\"\", \"smail\":\"\", \"one’s\":\"\", \"spurflower\":\"perennial plant\", \"sabre\":\"\",\"equus\":\"\", \"etc.\":\"\", \"ciconia\":\"\",  \"aër\":\"\", \"panthera\":\"panther\", \"еrinaceus\":\"\", \"e.g.\":\"\", \"centaurea\":\"thistle\", \"moschiferus\":\"\", \"apterus\":\"\", \"pyrrhocoris\":\"\", \"smn.\":\"\", \"pritchardia\":\"\", \"100\":\"one hundred\", \"sabrefish\":\"sabre carp\", \"putorius\":\"\", \"adv.\":\"\", \"petromyzontidae\":\"\", \"botaurus\":\"\", \"standart\":\"standard\", \"leccinum\":\"\", \"sg.\":\"\", \"gemini\":\"Gemini\", \"tabanidae\":\"\", \"anagallis\":\"\", \"decorticate\":\"stiff\", \"albugo\":\"\", \"frangula\":\"\", \"sciurus\":\"\", \"scrofa\":\"\", \"relig.\":\"\", \"headstream\":\"head stream\", \"solanum\":\"\", \"anguilla\":\"\", \"anat.\":\"\", \"nectarinia\":\"\", \"ipomoea\":\"\", \"repaire\":\"repair\", \"vaccinium\":\"\", \"smth\":\"\", \"smth.\":\"\", \"bubo\":\"\", \"deflorate\":\"remove flowers\", \"tr.\":\"\", \"traveller\":\"traveler\", \"bubalis\":\"\", \"marmorata\":\"\", \"caballus\":\"\", \"microchiroptera\":\"\", \"urtica\":\"\", \"plumbum\":\"\", \"biol.\":\"\", \"intr.\":\"\", \"bubalus\":\"\", \"columba\":\"\", \"cucurbita\":\"\", \"goldcrest\":\"small bird\", \"melongena\":\"\", \"picea\":\"\", \"arvensis\":\"\", \"moschus\":\"\", \"psidium\":\"\", \"radiointerference\":\"radio interference\", \"owre\":\"\", \"ricinus\":\"\", \"capricorn\":\"goat zodiac sign\", \"mustela\":\"\", \"pandion\":\"\", \"adj.of\":\"\", \"nomadize\":\"become nomadic\", \"smb.\":\"\", \"kneepit\":\"knee pit\", \"num.\":\"\", \"pl.\":\"\", \"extortioner\":\"extortion doer\", \"enculturate\":\"assimilate\", \"asquint\":\"squint\", \"uliginosum\":\"\", \"heteroptera\":\"\", \"ок\":\"ok\", \"abies\":\"fir\", \"stratiotes\":\"\", \"fiddlestick\":\"violin bow\", \"scabrum\":\"\", \"grus\":\"bird\", \"acarina\":\"\", \"guajava\":\"\", \"bitterling\":\"freshwater fish\", \"lycopersicum\":\"\", \"lutra\":\"otter\", \"plectranthus\":\"\", \"macereed\":\"mace reed\", \"24\":\"twenty four\", \"acris\":\"\", \"rotundifolius\":\"common weed\", \"gutturalis\":\"\", \"oxyeleotris\":\"\", \"citrullus\":\"\", \"lepus\":\"\", \"motacilla\":\"\", \"crake\":\"bird\", \"haliaёtus\":\"\", \"glasswort\":\"herb\", \"quinsy\":\"throat abscess\", \"shoulderblade\":\"shoulder blade\", \"spearthrower\":\"spear thrower\", \"ridgepole\":\"ridge pole\", \"pimpleface\":\"pimple face\", \"tumpline\":\"backpack\", \"cushma\":\"clothing\", \"curassow\":\"tropical bird\", \"banisterium\":\"plant\", \"paca\":\"rodent\", \"netbag\":\"net bag\", \"muntjacs\":\"barking deer\"}\n",
        "# Replaces obscure words with recognizable words, replaces parts of speech with nothing, same with science words\n",
        "\n",
        "def clean(s): # Here is the main method where we clean senses\n",
        "  s = str(s)\n",
        "  for i in \",:\":\n",
        "    s = s.replace(i, \" or\")\n",
        "  s = s.replace(\"/\", \" or \")\n",
        "  for i in \"()\\t\\n<>?\":\n",
        "    s = s.replace(i, \"\")\n",
        "  for i in \"-\":\n",
        "    s = s.replace(i, \" \")\n",
        "  should_be_upper = {}\n",
        "  for w in s.split(\" \"):\n",
        "    if w != \"\" and w[0].isupper():\n",
        "      should_be_upper = {w.lower():w.capitalize()} # Keeps track of which words should be capitalized\n",
        "  s = s.lower() # Converts to lowercase\n",
        "  for i in british_spellings: # Replaces British spelling with American ones\n",
        "    s = s.replace(i, british_spellings[i])\n",
        "  for i in words_to_replace: # Replaces all other obscure words \n",
        "    s = s.replace(i, words_to_replace[i])\n",
        "  for i in should_be_upper: # Uppercases words which should be uppercase\n",
        "    s = s.replace(i, should_be_upper[i])\n",
        "  if len(s) > 2 and s[:3] == \" or\": # If the beginning word is or, that means our string was of the form \"[removed word],\" and we should delete the or\n",
        "    s = s[3:]\n",
        "  if \"vs.\" in s: # For cases like \"land (vs. sea)\"\" we want to convert this to \"land\"\n",
        "    ind = s.find(\"vs.\")\n",
        "    s = s[:ind]\n",
        "  s = s.replace(\".\",\"\")\n",
        "  return s"
      ],
      "metadata": {
        "id": "z80DufRVoleq"
      },
      "execution_count": null,
      "outputs": []
    },
    {
      "cell_type": "code",
      "execution_count": null,
      "metadata": {
        "id": "FwD1fMKdoi-i"
      },
      "outputs": [],
      "source": [
        "# import raw dataset\n",
        "df_raw = pd.read_csv(\"filtered_dat_sem_shift.csv\") \n",
        "\n",
        "# apply cleaning method\n",
        "df = df_raw.copy()\n",
        "df = df.reset_index().drop([\"Unnamed: 0\", \"realizations\", \"index\"], axis=1)\n",
        "meaning1_clean = df[\"meaning1\"].apply(clean)\n",
        "meaning2_clean = df[\"meaning2\"].apply(clean)\n",
        "df.insert(2, \"meaning1_clean\", meaning1_clean)\n",
        "df.insert(3, \"meaning2_clean\", meaning2_clean)\n",
        "df.insert(4, \"realizations\", df_raw['realizations'])\n",
        "\n",
        "# export clean dataset\n",
        "pd.DataFrame.to_csv(df, \"datasets/cleaned_dat_sem_shift.csv\")"
      ]
    }
  ]
}