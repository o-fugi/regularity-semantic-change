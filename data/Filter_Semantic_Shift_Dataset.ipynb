{
  "nbformat": 4,
  "nbformat_minor": 0,
  "metadata": {
    "colab": {
      "provenance": [],
      "authorship_tag": "ABX9TyOV7ncMG1vuWQhd4vW3WHiA",
      "include_colab_link": true
    },
    "kernelspec": {
      "name": "python3",
      "display_name": "Python 3"
    },
    "language_info": {
      "name": "python"
    }
  },
  "cells": [
    {
      "cell_type": "markdown",
      "metadata": {
        "id": "view-in-github",
        "colab_type": "text"
      },
      "source": [
        "<a href=\"https://colab.research.google.com/github/o-fugi/systematicity-semantic-change/blob/main/data/Filter_Semantic_Shift_Dataset.ipynb\" target=\"_parent\"><img src=\"https://colab.research.google.com/assets/colab-badge.svg\" alt=\"Open In Colab\"/></a>"
      ]
    },
    {
      "cell_type": "code",
      "source": [
        "import pandas as pd"
      ],
      "metadata": {
        "id": "qt6ZX_DJgS12"
      },
      "execution_count": null,
      "outputs": []
    },
    {
      "cell_type": "code",
      "execution_count": null,
      "metadata": {
        "id": "PuB2GEJ3f9tv"
      },
      "outputs": [],
      "source": [
        "# read raw data\n",
        "datSemShift = pd.read_csv('../data/datasets/datsemshift.csv')\n",
        "\n",
        "# filter semantic shifts\n",
        "datSemShift = datSemShift[(datSemShift['gendirection'] == '→')]\n",
        "datSemShift = datSemShift[(datSemShift['type'] == ' Semantic evolution') | (datSemShift['type'] == ' Polysemy')]\n",
        "datSemShift = datSemShift[(datSemShift['language1'] == datSemShift['language2'])]\n",
        "datSemShift = datSemShift[(datSemShift['lexeme1'] == datSemShift['lexeme2'])]\n",
        "datSemShift = datSemShift[~datSemShift['meaning1'].str.contains('<') & ~datSemShift['meaning2'].str.contains('<')]\n",
        "datSemShift = datSemShift[(datSemShift['status']!='Suspended') & (datSemShift['status']!='Rejected')]\n",
        "\n",
        "# group by shifts and count realizations\n",
        "semShiftDF = pd.DataFrame(datSemShift.groupby(['meaning1', 'meaning2']).size()).rename(columns={0:'realizations'})\n",
        "semShiftDF = semShiftDF.reset_index()"
      ]
    },
    {
      "cell_type": "code",
      "source": [
        "# save in datasets file\n",
        "\n",
        "semShiftDF.to_csv('../data/datasets/filtered_dat_sem_shift.csv')"
      ],
      "metadata": {
        "id": "DdEa11mZgqxV"
      },
      "execution_count": null,
      "outputs": []
    }
  ]
}