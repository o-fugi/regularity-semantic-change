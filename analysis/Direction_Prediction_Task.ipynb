{
  "nbformat": 4,
  "nbformat_minor": 0,
  "metadata": {
    "colab": {
      "name": "Predicting Semantic Direction.ipynb",
      "provenance": [],
      "collapsed_sections": [],
      "authorship_tag": "ABX9TyMHTPg5eeEgypFw0sTLY0bU",
      "include_colab_link": true
    },
    "kernelspec": {
      "name": "python3",
      "display_name": "Python 3"
    },
    "language_info": {
      "name": "python"
    }
  },
  "cells": [
    {
      "cell_type": "markdown",
      "metadata": {
        "id": "view-in-github",
        "colab_type": "text"
      },
      "source": [
        "<a href=\"https://colab.research.google.com/github/o-fugi/FURSPColexification/blob/main/code/Predicting_Semantic_Direction.ipynb\" target=\"_parent\"><img src=\"https://colab.research.google.com/assets/colab-badge.svg\" alt=\"Open In Colab\"/></a>"
      ]
    },
    {
      "cell_type": "code",
      "source": [
        "# run this cell and then restart the runtime if you want to generate graphs\n",
        "\n",
        "!pip install matplotlib --upgrade"
      ],
      "metadata": {
        "colab": {
          "base_uri": "https://localhost:8080/",
          "height": 523
        },
        "id": "URPn63FtU1dZ",
        "outputId": "d1561594-e981-427c-d298-d685f53183ef"
      },
      "execution_count": 1,
      "outputs": [
        {
          "output_type": "stream",
          "name": "stdout",
          "text": [
            "Looking in indexes: https://pypi.org/simple, https://us-python.pkg.dev/colab-wheels/public/simple/\n",
            "Requirement already satisfied: matplotlib in /usr/local/lib/python3.7/dist-packages (3.2.2)\n",
            "Collecting matplotlib\n",
            "  Downloading matplotlib-3.5.3-cp37-cp37m-manylinux_2_5_x86_64.manylinux1_x86_64.whl (11.2 MB)\n",
            "\u001b[K     |████████████████████████████████| 11.2 MB 5.2 MB/s \n",
            "\u001b[?25hRequirement already satisfied: numpy>=1.17 in /usr/local/lib/python3.7/dist-packages (from matplotlib) (1.21.6)\n",
            "Requirement already satisfied: kiwisolver>=1.0.1 in /usr/local/lib/python3.7/dist-packages (from matplotlib) (1.4.4)\n",
            "Requirement already satisfied: packaging>=20.0 in /usr/local/lib/python3.7/dist-packages (from matplotlib) (21.3)\n",
            "Requirement already satisfied: pyparsing>=2.2.1 in /usr/local/lib/python3.7/dist-packages (from matplotlib) (3.0.9)\n",
            "Requirement already satisfied: pillow>=6.2.0 in /usr/local/lib/python3.7/dist-packages (from matplotlib) (7.1.2)\n",
            "Requirement already satisfied: python-dateutil>=2.7 in /usr/local/lib/python3.7/dist-packages (from matplotlib) (2.8.2)\n",
            "Requirement already satisfied: cycler>=0.10 in /usr/local/lib/python3.7/dist-packages (from matplotlib) (0.11.0)\n",
            "Collecting fonttools>=4.22.0\n",
            "  Downloading fonttools-4.37.0-py3-none-any.whl (956 kB)\n",
            "\u001b[K     |████████████████████████████████| 956 kB 33.3 MB/s \n",
            "\u001b[?25hRequirement already satisfied: typing-extensions in /usr/local/lib/python3.7/dist-packages (from kiwisolver>=1.0.1->matplotlib) (4.1.1)\n",
            "Requirement already satisfied: six>=1.5 in /usr/local/lib/python3.7/dist-packages (from python-dateutil>=2.7->matplotlib) (1.15.0)\n",
            "Installing collected packages: fonttools, matplotlib\n",
            "  Attempting uninstall: matplotlib\n",
            "    Found existing installation: matplotlib 3.2.2\n",
            "    Uninstalling matplotlib-3.2.2:\n",
            "      Successfully uninstalled matplotlib-3.2.2\n",
            "Successfully installed fonttools-4.37.0 matplotlib-3.5.3\n"
          ]
        },
        {
          "output_type": "display_data",
          "data": {
            "application/vnd.colab-display-data+json": {
              "pip_warning": {
                "packages": [
                  "matplotlib",
                  "mpl_toolkits"
                ]
              }
            }
          },
          "metadata": {}
        }
      ]
    },
    {
      "cell_type": "code",
      "source": [
        "from google.colab import drive\n",
        "drive.mount('/content/drive/')\n",
        "%cd /content/drive/MyDrive/ColabFiles/"
      ],
      "metadata": {
        "colab": {
          "base_uri": "https://localhost:8080/"
        },
        "id": "jwtytK6h2xdv",
        "outputId": "936ce392-5b8e-4587-f672-dd243eb174f6"
      },
      "execution_count": 1,
      "outputs": [
        {
          "output_type": "stream",
          "name": "stdout",
          "text": [
            "Mounted at /content/drive/\n",
            "/content/drive/MyDrive/ColabFiles\n"
          ]
        }
      ]
    },
    {
      "cell_type": "code",
      "execution_count": 17,
      "metadata": {
        "id": "Q7rn6PCy2otq"
      },
      "outputs": [],
      "source": [
        "import pandas as pd\n",
        "import numpy as np\n",
        "import re\n",
        "from sklearn.linear_model import LogisticRegression\n",
        "from sklearn.model_selection import cross_val_score\n",
        "from functools import reduce\n",
        "import random as r\n",
        "import matplotlib.pyplot as plt"
      ]
    },
    {
      "cell_type": "code",
      "source": [
        "# import factor  datasets\n",
        "\n",
        "# https://saifmohammad.com/WebPages/nrc-vad.html\n",
        "val_df = pd.read_csv('/content/drive/MyDrive/ColabFiles/NRC-VAD-Lexicon.txt', sep=\"\\t\", header=None)\n",
        "val_df = val_df.rename(columns={0:'Word', 1:'val', 2:'aro', 3:'dom'})[['Word', 'val', 'aro', 'dom']]\n",
        "\n",
        "conc_df = pd.read_csv('/content/drive/MyDrive/ColabFiles/brysbaert_concreteness.csv')\n",
        "conc_df = conc_df.rename(columns={'Conc.M': 'conc'})[['Word', 'conc']]\n",
        "\n",
        "freq_df = pd.read_csv('/content/drive/MyDrive/ColabFiles/COCA_freqs.csv', encoding='ISO-8859-1') # w1, coca_spok\n",
        "freq_df = freq_df.rename(columns={'w1':'Word', 'coca_spok':'freq'})[['Word', 'freq']]\n",
        "freq_df['freq_rank'] = freq_df['freq'].rank(ascending=False)"
      ],
      "metadata": {
        "id": "jhh6QgLl2yte"
      },
      "execution_count": 18,
      "outputs": []
    },
    {
      "cell_type": "code",
      "source": [
        "# import semantic shift dataset\n",
        "\n",
        "sem_shift_df = pd.read_csv('/content/drive/MyDrive/ColabFiles/cleaned_dat_sem_shift.csv')\n",
        "sem_shift_df['meaning1'] = sem_shift_df['meaning1_clean']\n",
        "sem_shift_df['meaning2'] = sem_shift_df['meaning2_clean']\n",
        "sem_shift_df = sem_shift_df[['meaning1', 'meaning2', 'realizations']]\n",
        "\n",
        "sem_shift_df.at[697, 'meaning1'] = 'furuncul'\n",
        "sem_shift_df.at[1521, 'meaning2'] = 'geometrid'"
      ],
      "metadata": {
        "id": "e8iBqeZq3XNv"
      },
      "execution_count": 19,
      "outputs": []
    },
    {
      "cell_type": "code",
      "source": [
        "#@title english data\n",
        "\n",
        "# sem_shift_df = pd.read_csv('/content/drive/MyDrive/ColabFiles/cleaned_classified_df.csv', encoding='ISO-8859-1')\n",
        "\n",
        "# #remove nan rows\n",
        "# sem_shift_df['Bleached sense'] = sem_shift_df['Bleached sense'].fillna('NaN')\n",
        "# sem_shift_df = sem_shift_df[sem_shift_df['Bleached sense']!='NaN']\n",
        "\n",
        "# # remove completely duplicated rows\n",
        "# sem_shift_df = sem_shift_df[~sem_shift_df.duplicated()]\n",
        "\n",
        "# # get rid of punctuation in the senses\n",
        "\n",
        "# def cleanString(s):\n",
        "#   s = s.lower()\n",
        "#   s = s.replace(\"'\", \"\")\n",
        "#   s = s.replace(\",\", \"\")\n",
        "#   s = s.replace(\";\", \"\")\n",
        "#   s = s.lower()\n",
        "#   return s\n",
        "\n",
        "# sem_shift_df['meaning1'] = sem_shift_df['meaning1'].apply(cleanString)\n",
        "# sem_shift_df['meaning2'] = sem_shift_df['meaning2'].apply(cleanString)\n",
        "\n",
        "# # maybe filter this out for testing  \n",
        "# # sem_shift_df = sem_shift_df[sem_shift_df['Type of change']!= 'synaesthesia']"
      ],
      "metadata": {
        "id": "6Zvl23m7GgS9",
        "cellView": "form"
      },
      "execution_count": 20,
      "outputs": []
    },
    {
      "cell_type": "code",
      "source": [
        "# define how we map a sense to concreteness, valence, frequency values\n",
        "\n",
        "skip_words = {'the', 'and', 'of', 'a', 'in', 'to', 'it', 'is', 'that', 'for', 'with', 'on', 'at', 'this', 'that', 'by', 'or', 'an', 'as', 'if', 'so', 'in'}\n",
        "\n",
        "# take all words in the sense and and average/add values\n",
        "# if conservative, only matches to full phrases separated by \"or\"\n",
        "def senseToValue(s, df, col, average=True, conservative=False):\n",
        "  s = s.lower()\n",
        "  if conservative: \n",
        "    phrases = re.split(' or ', s)\n",
        "  else:\n",
        "    for i in \"(),/\":\n",
        "      s = s.replace(i, \"\")\n",
        "    phrases = re.split(' ', s)\n",
        "  total_val = 0\n",
        "  val_data = 0\n",
        "  for p in phrases:\n",
        "    if p in skip_words:\n",
        "      continue\n",
        "    try:\n",
        "      val = df[df['Word']==p][col].values[0]\n",
        "      if not np.isnan(val):\n",
        "        total_val += val\n",
        "        val_data += 1\n",
        "    except:\n",
        "      pass\n",
        "  if val_data == 0:\n",
        "    total_val = np.nan\n",
        "  else:\n",
        "    if average:\n",
        "      total_val /= val_data\n",
        "  return total_val"
      ],
      "metadata": {
        "id": "n83l-7jX4qiW"
      },
      "execution_count": 21,
      "outputs": []
    },
    {
      "cell_type": "code",
      "source": [
        "# get priors for semshift data\n",
        "\n",
        "# dictionary for concreteness and embeddings\n",
        "conc_dic = {} # This will be a dictionary that easily allows us to access the concreteness for all of our senses, saving time. \n",
        "freq_dic = {} \n",
        "val_dic = {}\n",
        "val_rate_dic = {}\n",
        "\n",
        "conservative=True\n",
        "\n",
        "for i in range(len(sem_shift_df)): # Here we loop through each row of our dataframe, and if we can convert a sense s to an embedding then we set vec_dic[s] = embedding\n",
        "  row = sem_shift_df.iloc[i]\n",
        "  x = row[\"meaning1\"]\n",
        "  y = row[\"meaning2\"]\n",
        "\n",
        "  if x not in conc_dic:\n",
        "    x_conc = senseToValue(x, conc_df, 'conc', conservative=conservative)\n",
        "    if not np.isnan(x_conc):\n",
        "      conc_dic[x] = x_conc\n",
        "\n",
        "  if y not in conc_dic:\n",
        "    y_conc = senseToValue(y, conc_df, 'conc', conservative=conservative)\n",
        "    if not np.isnan(y_conc):\n",
        "      conc_dic[y] = y_conc\n",
        "\n",
        "  if x not in freq_dic:\n",
        "    x_freq = senseToValue(x, freq_df, 'freq', average=True, conservative=conservative)\n",
        "    if not np.isnan(x_freq):\n",
        "      freq_dic[x] = x_freq\n",
        "\n",
        "  if y not in freq_dic:\n",
        "    y_freq = senseToValue(y, freq_df, 'freq', average=True, conservative=conservative)\n",
        "    if not np.isnan(y_freq):\n",
        "      freq_dic[y] = y_freq\n",
        "\n",
        "  if x not in val_dic:\n",
        "    x_val = senseToValue(x, val_df, 'val', conservative=conservative)\n",
        "    if not np.isnan(x_val):\n",
        "      val_dic[x] = x_val\n",
        "\n",
        "  if y not in val_dic:\n",
        "    y_val = senseToValue(y, val_df, 'val', conservative=conservative)\n",
        "    if not np.isnan(y_val):\n",
        "      val_dic[y] = y_val"
      ],
      "metadata": {
        "id": "a3H1tDpjs-9a",
        "cellView": "code"
      },
      "execution_count": 22,
      "outputs": []
    },
    {
      "cell_type": "code",
      "source": [
        "#@title export these as a dataframe, for use in other places\n",
        "\n",
        "# conc_sense_df = pd.DataFrame.from_dict(conc_dic, orient='index').reset_index().rename(columns={'index':'Word', 0:'conc'})\n",
        "# freq_sense_df = pd.DataFrame.from_dict(freq_dic, orient='index').reset_index().rename(columns={'index':'Word', 0:'freq'})\n",
        "# val_sense_df = pd.DataFrame.from_dict(val_dic, orient='index').reset_index().rename(columns={'index':'Word', 0:'val'})\n",
        "\n",
        "# df = reduce(lambda  left,right: pd.merge(left,right,left_on='meaning1',right_on='Word', how='left'), [sem_shift_df[['meaning1', 'meaning2']], conc_sense_df])\n",
        "# df = reduce(lambda  left,right: pd.merge(left,right,left_on='meaning2',right_on='Word', how='left'), [df, conc_sense_df])\n",
        "# df = reduce(lambda  left,right: pd.merge(left,right,left_on='meaning1',right_on='Word', how='left'), [df, freq_sense_df])\n",
        "# df = reduce(lambda  left,right: pd.merge(left,right,left_on='meaning2',right_on='Word', how='left'), [df, freq_sense_df])\n",
        "# df = reduce(lambda  left,right: pd.merge(left,right,left_on='meaning1',right_on='Word', how='left'), [df, val_sense_df])\n",
        "# df = reduce(lambda  left,right: pd.merge(left,right,left_on='meaning2',right_on='Word', how='left'), [df, val_sense_df])\n",
        "\n",
        "# df = df.drop(['Word_x', 'Word_y'], axis=1)\n",
        "\n",
        "# df.to_csv('all_vars_df.csv', index=False)"
      ],
      "metadata": {
        "cellView": "form",
        "id": "1UejLcvLo1I9"
      },
      "execution_count": 23,
      "outputs": []
    },
    {
      "cell_type": "code",
      "source": [
        "# test prior accuracy on shifts that have values for ALL THREE variables\n",
        "\n",
        "# create dataframes for each variable\n",
        "conc_sense_df = pd.DataFrame.from_dict(conc_dic, orient='index').reset_index().rename(columns={'index':'Word', 0:'conc'})\n",
        "freq_sense_df = pd.DataFrame.from_dict(freq_dic, orient='index').reset_index().rename(columns={'index':'Word', 0:'freq'})\n",
        "val_sense_df = pd.DataFrame.from_dict(val_dic, orient='index').reset_index().rename(columns={'index':'Word', 0:'val'})\n",
        "val_sense_df['val_rate'] = abs(val_sense_df['val'] - 0.5)\n",
        "\n",
        "# merge into a list of all shifts\n",
        "shift_val_df = reduce(lambda  left,right: pd.merge(left,right,left_on='meaning1',right_on='Word', how='left'), [sem_shift_df, conc_sense_df]).drop('Word', axis=1)\n",
        "shift_val_df = reduce(lambda  left,right: pd.merge(left,right,left_on='meaning2',right_on='Word', how='left'), [shift_val_df, conc_sense_df]).drop('Word', axis=1)\n",
        "shift_val_df = reduce(lambda  left,right: pd.merge(left,right,left_on='meaning1',right_on='Word', how='left'), [shift_val_df, freq_sense_df]).drop('Word', axis=1)\n",
        "shift_val_df = reduce(lambda  left,right: pd.merge(left,right,left_on='meaning2',right_on='Word', how='left'), [shift_val_df, freq_sense_df]).drop('Word', axis=1)\n",
        "shift_val_df = reduce(lambda  left,right: pd.merge(left,right,left_on='meaning1',right_on='Word', how='left'), [shift_val_df, val_sense_df]).drop('Word', axis=1)\n",
        "shift_val_df = reduce(lambda  left,right: pd.merge(left,right,left_on='meaning2',right_on='Word', how='left'), [shift_val_df, val_sense_df]).drop('Word', axis=1)\n",
        "\n",
        "# remove all shifts that don't have concreteness, valence, and frequency values for source and target\n",
        "shift_val_df = shift_val_df.dropna()\n",
        "\n",
        "# determine the accuracy of each variable for predicting each shift\n",
        "shift_val_df['conc_ratio'] = shift_val_df['conc_x'] / shift_val_df['conc_y']\n",
        "shift_val_df['freq_ratio'] = shift_val_df['freq_x'] / shift_val_df['freq_y']\n",
        "shift_val_df['val_rate_ratio'] = shift_val_df['val_rate_x'] / shift_val_df['val_rate_y']\n",
        "\n",
        "shift_val_df['conc_acc'] = np.where(shift_val_df['conc_ratio'] > 1, 1, 0)\n",
        "shift_val_df['freq_acc'] = np.where(shift_val_df['freq_ratio'] > 1, 1, 0)\n",
        "shift_val_df['val_rate_acc'] = np.where(shift_val_df['val_rate_ratio'] < 1, 1, 0)\n",
        "\n",
        "# record the accuracies in lists for plotting\n",
        "conc_accuracy = []\n",
        "conc_accuracy.append(shift_val_df['conc_acc'].value_counts()[1] / len(shift_val_df))\n",
        "conc_accuracy.append(shift_val_df[shift_val_df['realizations']>1]['conc_acc'].value_counts()[1] / len(shift_val_df[shift_val_df['realizations']>1]))\n",
        "conc_accuracy.append(shift_val_df[shift_val_df['realizations']>5]['conc_acc'].value_counts()[1] / len(shift_val_df[shift_val_df['realizations']>5]))\n",
        "\n",
        "freq_accuracy = []\n",
        "freq_accuracy.append(shift_val_df['freq_acc'].value_counts()[1] / len(shift_val_df))\n",
        "freq_accuracy.append(shift_val_df[shift_val_df['realizations']>1]['freq_acc'].value_counts()[1] / len(shift_val_df[shift_val_df['realizations']>1]))\n",
        "freq_accuracy.append(shift_val_df[shift_val_df['realizations']>5]['freq_acc'].value_counts()[1] / len(shift_val_df[shift_val_df['realizations']>5]))\n",
        "\n",
        "val_rate_accuracy = []\n",
        "val_rate_accuracy.append(shift_val_df['val_rate_acc'].value_counts()[1] / len(shift_val_df))\n",
        "val_rate_accuracy.append(shift_val_df[shift_val_df['realizations']>1]['val_rate_acc'].value_counts()[1] / len(shift_val_df[shift_val_df['realizations']>1]))\n",
        "val_rate_accuracy.append(shift_val_df[shift_val_df['realizations']>5]['val_rate_acc'].value_counts()[1] / len(shift_val_df[shift_val_df['realizations']>5]))"
      ],
      "metadata": {
        "id": "laqd4V5bYmA4"
      },
      "execution_count": 24,
      "outputs": []
    },
    {
      "cell_type": "markdown",
      "source": [
        "## no longer important"
      ],
      "metadata": {
        "id": "2pwedqWGbj_Y"
      }
    },
    {
      "cell_type": "code",
      "source": [
        "# # test prior accuracy\n",
        "\n",
        "# # merge concreteness with shift df\n",
        "# conc_sense_df = pd.DataFrame.from_dict(conc_dic, orient='index').reset_index().rename(columns={'index':'Word', 0:'conc'})\n",
        "# shift_conc_df = reduce(lambda  left,right: pd.merge(left,right,left_on='meaning1',right_on='Word', how='left'), [sem_shift_df, conc_sense_df])\n",
        "# shift_conc_df = reduce(lambda  left,right: pd.merge(left,right,left_on='meaning2',right_on='Word', how='left'), [shift_conc_df, conc_sense_df])\n",
        "\n",
        "# # calculate ratio and find accuracy\n",
        "# shift_conc_df['ratio'] = shift_conc_df['conc_x'] / shift_conc_df['conc_y']\n",
        "# shift_conc_df = shift_conc_df[~np.isnan(shift_conc_df['ratio'])]\n",
        "# shift_conc_df['ratio_accurate'] = shift_conc_df['ratio'] > 1\n",
        "# print(shift_conc_df['ratio_accurate'].value_counts())\n",
        "# print(\"accuracy: \", shift_conc_df['ratio_accurate'].value_counts()[True] / len(shift_conc_df), \"with \", len(shift_conc_df) , \"samples\")\n",
        "\n",
        "# conc_accuracy = []\n",
        "# conc_accuracy.append(shift_conc_df['ratio_accurate'].value_counts()[True] / len(shift_conc_df))\n",
        "# conc_accuracy.append(shift_conc_df[shift_conc_df['realizations']>1]['ratio_accurate'].value_counts()[True] / len(shift_conc_df[shift_conc_df['realizations']>1]))\n",
        "# conc_accuracy.append(shift_conc_df[shift_conc_df['realizations']>5]['ratio_accurate'].value_counts()[True] / len(shift_conc_df[shift_conc_df['realizations']>5]))"
      ],
      "metadata": {
        "id": "28cXztstb3rU"
      },
      "execution_count": null,
      "outputs": []
    },
    {
      "cell_type": "markdown",
      "source": [
        "correct\n",
        "\n",
        "moon -> month\n",
        "earth or soil -> country or land\n",
        "road -> manner or way\n",
        "word -> speech\n",
        "hot -> passionate\n",
        "blunt -> stupid\n",
        "head -> boss\n",
        "empty -> in vain\n",
        "\n",
        "incorrect\n",
        "\n",
        "innocent -> child\n",
        "difficult -> pregnant\n",
        "unhappy -> leper\n",
        "good -> sweets or candy"
      ],
      "metadata": {
        "id": "nRXDvexVRZ7L"
      }
    },
    {
      "cell_type": "code",
      "source": [
        "#@title english data stuff\n",
        "# print(\"accuracy w/o syn: \", shift_conc_df[shift_conc_df['Type of change']!='synaesthesia']['ratio_accurate'].value_counts()[True] / len(shift_conc_df[shift_conc_df['Type of change']!='synaesthesia']), \"with \", len(shift_conc_df[shift_conc_df['Type of change']!='synaesthesia']) , \"samples\")\n",
        "# accuracy_df = pd.DataFrame()\n",
        "# accuracy_df['accuracy'] = shift_conc_df.groupby('Type of change').sum()['ratio_accurate'] / shift_conc_df.groupby('Type of change').size()\n",
        "# accuracy_df['realizations'] = shift_conc_df.groupby('Type of change').size()\n",
        "# print(accuracy_df.to_latex(index=True))"
      ],
      "metadata": {
        "id": "kd-cVigzXqd8",
        "cellView": "form"
      },
      "execution_count": 8,
      "outputs": []
    },
    {
      "cell_type": "code",
      "source": [
        "# # test prior accuracy\n",
        "\n",
        "# # merge freqreteness with shift df\n",
        "# freq_sense_df = pd.DataFrame.from_dict(freq_dic, orient='index').reset_index().rename(columns={'index':'Word', 0:'freq'})\n",
        "# shift_freq_df = reduce(lambda  left,right: pd.merge(left,right,left_on='meaning1',right_on='Word', how='left'), [sem_shift_df, freq_sense_df])\n",
        "# shift_freq_df = reduce(lambda  left,right: pd.merge(left,right,left_on='meaning2',right_on='Word', how='left'), [shift_freq_df, freq_sense_df])\n",
        "\n",
        "# # calculate ratio and find accuracy\n",
        "# shift_freq_df['ratio'] = shift_freq_df['freq_x'] / shift_freq_df['freq_y']\n",
        "# shift_freq_df = shift_freq_df[~np.isnan(shift_freq_df['ratio'])]\n",
        "# shift_freq_df['ratio_accurate'] = shift_freq_df['ratio'] > 1\n",
        "# print(shift_freq_df['ratio_accurate'].value_counts())\n",
        "# print(\"accuracy: \", shift_freq_df['ratio_accurate'].value_counts()[True] / len(shift_freq_df), \"with \", len(shift_freq_df) , \"samples\")\n",
        "\n",
        "# freq_accuracy = []\n",
        "# freq_accuracy.append(shift_freq_df['ratio_accurate'].value_counts()[True] / len(shift_freq_df))\n",
        "# freq_accuracy.append(shift_freq_df[shift_freq_df['realizations']>1]['ratio_accurate'].value_counts()[True] / len(shift_freq_df[shift_freq_df['realizations']>1]))\n",
        "# freq_accuracy.append(shift_freq_df[shift_freq_df['realizations']>5]['ratio_accurate'].value_counts()[True] / len(shift_freq_df[shift_freq_df['realizations']>5]))"
      ],
      "metadata": {
        "id": "e5gHJMeWubx6"
      },
      "execution_count": 9,
      "outputs": []
    },
    {
      "cell_type": "code",
      "source": [
        "#@title english data stuff\n",
        "# print(\"accuracy w/o syn: \", shift_freq_df[shift_freq_df['Type of change']!='synaesthesia']['ratio_accurate'].value_counts()[True] / len(shift_freq_df[shift_freq_df['Type of change']!='synaesthesia']), \"with \", len(shift_freq_df[shift_freq_df['Type of change']!='synaesthesia']) , \"samples\")\n",
        "# accuracy_df = pd.DataFrame()\n",
        "# accuracy_df['accuracy'] = shift_freq_df.groupby('Type of change').sum()['ratio_accurate'] / shift_freq_df.groupby('Type of change').size()\n",
        "# accuracy_df['realizations'] = shift_freq_df.groupby('Type of change').size()\n",
        "# print(accuracy_df.to_latex(index=True))"
      ],
      "metadata": {
        "id": "OZdQSa2FY7HC",
        "cellView": "form"
      },
      "execution_count": 10,
      "outputs": []
    },
    {
      "cell_type": "code",
      "source": [
        "# # test prior accuracy\n",
        "\n",
        "# # merge valreteness with shift df\n",
        "# val_sense_df = pd.DataFrame.from_dict(val_dic, orient='index').reset_index().rename(columns={'index':'Word', 0:'val'})\n",
        "# val_sense_df['val_rate'] = abs(val_sense_df['val'] - 0.5)\n",
        "# shift_val_df = reduce(lambda  left,right: pd.merge(left,right,left_on='meaning1',right_on='Word', how='left'), [sem_shift_df, val_sense_df])\n",
        "# shift_val_df = reduce(lambda  left,right: pd.merge(left,right,left_on='meaning2',right_on='Word', how='left'), [shift_val_df, val_sense_df])\n",
        "\n",
        "# # calculate ratio and find accuracy\n",
        "# shift_val_df['ratio'] = shift_val_df['val_x'] / shift_val_df['val_y']\n",
        "# shift_val_df = shift_val_df[~np.isnan(shift_val_df['ratio'])]\n",
        "# shift_val_df['ratio_accurate'] = shift_val_df['ratio'] > 1\n",
        "# print(shift_val_df['ratio_accurate'].value_counts())\n",
        "# print(\"accuracy: \", shift_val_df['ratio_accurate'].value_counts()[True] / len(shift_val_df), \"with \", len(shift_val_df) , \"samples\")\n",
        "\n",
        "# val_accuracy = []\n",
        "# val_accuracy.append(shift_val_df['ratio_accurate'].value_counts()[True] / len(shift_val_df))\n",
        "# val_accuracy.append(shift_val_df[shift_val_df['realizations']>1]['ratio_accurate'].value_counts()[True] / len(shift_val_df[shift_val_df['realizations']>1]))\n",
        "# val_accuracy.append(shift_val_df[shift_val_df['realizations']>5]['ratio_accurate'].value_counts()[True] / len(shift_val_df[shift_val_df['realizations']>5]))"
      ],
      "metadata": {
        "id": "IMJAafOG5chU"
      },
      "execution_count": 11,
      "outputs": []
    },
    {
      "cell_type": "code",
      "source": [
        "#@title english data stuff\n",
        "\n",
        "# print(\"accuracy w/o syn: \", shift_val_df[shift_val_df['Type of change']!='synaesthesia']['ratio_accurate'].value_counts()[True] / len(shift_val_df[shift_val_df['Type of change']!='synaesthesia']), \"with \", len(shift_val_df[shift_val_df['Type of change']!='synaesthesia']) , \"samples\")\n",
        "\n",
        "# accuracy_df = pd.DataFrame()\n",
        "# accuracy_df['accuracy'] = shift_val_df.groupby('Type of change').sum()['ratio_accurate'] / shift_val_df.groupby('Type of change').size()\n",
        "# accuracy_df['realizations'] = shift_val_df.groupby('Type of change').size()\n",
        "# print(accuracy_df.to_latex(index=True))"
      ],
      "metadata": {
        "id": "mSQ5ZqOqZEYH",
        "cellView": "form"
      },
      "execution_count": 12,
      "outputs": []
    },
    {
      "cell_type": "code",
      "source": [
        "# # test prior accuracy\n",
        "\n",
        "# # for this, higher values are more valenced. so we would expect things to move from low to high.\n",
        "\n",
        "# # calculate ratio and find accuracy\n",
        "# shift_val_df['ratio'] = shift_val_df['val_rate_x'] / shift_val_df['val_rate_y']\n",
        "# shift_val_df = shift_val_df[~np.isnan(shift_val_df['ratio'])]\n",
        "# shift_val_df['ratio_accurate'] = shift_val_df['ratio'] < 1\n",
        "# print(shift_val_df['ratio_accurate'].value_counts())\n",
        "# print(\"accuracy: \", shift_val_df['ratio_accurate'].value_counts()[True] / len(shift_val_df), \"with \", len(shift_val_df) , \"samples\")\n",
        "# val_rate_accuracy = shift_val_df['ratio_accurate'].value_counts()[True] / len(shift_val_df)\n",
        "\n",
        "# val_rate_accuracy = []\n",
        "# val_rate_accuracy.append(shift_val_df['ratio_accurate'].value_counts()[True] / len(shift_val_df))\n",
        "# val_rate_accuracy.append(shift_val_df[shift_val_df['realizations']>1]['ratio_accurate'].value_counts()[True] / len(shift_val_df[shift_val_df['realizations']>1]))\n",
        "# val_rate_accuracy.append(shift_val_df[shift_val_df['realizations']>5]['ratio_accurate'].value_counts()[True] / len(shift_val_df[shift_val_df['realizations']>5]))"
      ],
      "metadata": {
        "id": "qVW0dN-wjiZA"
      },
      "execution_count": 13,
      "outputs": []
    },
    {
      "cell_type": "markdown",
      "source": [
        "## logistic regression"
      ],
      "metadata": {
        "id": "pkmNf7XBcxDa"
      }
    },
    {
      "cell_type": "code",
      "source": [
        "# create another database where half of the sources and targets are switched\n",
        "\n",
        "shift_df = sem_shift_df[['meaning1', 'meaning2', 'realizations']]\n",
        "\n",
        "# choose which are going to shift\n",
        "indices = list(range(len(shift_df)))\n",
        "r.shuffle(indices)\n",
        "switch_indices = indices[:int(len(shift_df)/2)]\n",
        "\n",
        "# set the accuracy column\n",
        "shift_df['accurate'] = pd.Series(dtype='boolean')\n",
        "shift_df.loc[switch_indices, 'accurate'] = False\n",
        "shift_df.loc[indices[int(len(shift_df)/2):], 'accurate'] = True\n",
        "\n",
        "shift_df.loc[switch_indices, 'meaning1'] = sem_shift_df.loc[switch_indices, 'meaning2']\n",
        "shift_df.loc[switch_indices, 'meaning2'] = sem_shift_df.loc[switch_indices, 'meaning1']"
      ],
      "metadata": {
        "id": "JQLzogy_aJ0c"
      },
      "execution_count": 25,
      "outputs": []
    },
    {
      "cell_type": "code",
      "source": [
        "# merge in freq/conc/val data to this database\n",
        "\n",
        "shift_df = reduce(lambda  left,right: pd.merge(left,right,left_on='meaning1',right_on='Word', how='left'), [shift_df, conc_sense_df]).drop('Word', axis=1)\n",
        "shift_df = reduce(lambda  left,right: pd.merge(left,right,left_on='meaning2',right_on='Word', how='left'), [shift_df, conc_sense_df]).drop('Word', axis=1)\n",
        "shift_df = reduce(lambda  left,right: pd.merge(left,right,left_on='meaning1',right_on='Word', how='left'), [shift_df, freq_sense_df]).drop('Word', axis=1)\n",
        "shift_df = reduce(lambda  left,right: pd.merge(left,right,left_on='meaning2',right_on='Word', how='left'), [shift_df, freq_sense_df]).drop('Word', axis=1)\n",
        "shift_df = reduce(lambda  left,right: pd.merge(left,right,left_on='meaning1',right_on='Word', how='left'), [shift_df, val_sense_df]).drop('Word', axis=1)\n",
        "shift_df = reduce(lambda  left,right: pd.merge(left,right,left_on='meaning2',right_on='Word', how='left'), [shift_df, val_sense_df]).drop('Word', axis=1)"
      ],
      "metadata": {
        "id": "PgzNGF8hUSc2"
      },
      "execution_count": 26,
      "outputs": []
    },
    {
      "cell_type": "code",
      "source": [
        "# filter the dataframe and add various test columns \n",
        "\n",
        "shift_df = shift_df.dropna()\n",
        "\n",
        "shift_df['freq_x'] = np.log(shift_df['freq_x'])\n",
        "shift_df['freq_y'] = np.log(shift_df['freq_y'])\n",
        "\n",
        "shift_df['conc_diff'] = shift_df['conc_y'] - shift_df['conc_x']\n",
        "shift_df['freq_diff'] = shift_df['conc_y'] - shift_df['freq_x']\n",
        "shift_df['val_rate_diff'] = shift_df['val_rate_y'] - shift_df['val_rate_x']\n",
        "\n",
        "# normalizing all of the variable differences to have approximately the same magnitude\n",
        "shift_df['conc_diff_norm'] = shift_df['conc_diff'] / (max(shift_df['conc_diff'])-min(shift_df['conc_diff'])) *2\n",
        "shift_df['val_rate_diff_norm'] = shift_df['val_rate_diff'] / (max(shift_df['val_rate_diff'])-min(shift_df['val_rate_diff'])) *2\n",
        "shift_df['freq_diff_norm'] = shift_df['freq_diff'] / (max(shift_df['freq_diff'])-min(shift_df['freq_diff'])) *2\n",
        "\n",
        "# # ended up not using these\n",
        "# shift_df['conc_ratio'] = shift_df['conc_x'] / shift_df['conc_y']\n",
        "# shift_df['freq_ratio'] = shift_df['freq_x'] / shift_df['freq_y']\n",
        "# shift_df['val_rate_ratio'] = shift_df['val_rate_x'] / shift_df['val_rate_y']\n",
        "\n",
        "# shift_df['conc_acc'] = np.where(shift_df['conc_ratio'] > 1, 1, 0)\n",
        "# shift_df['freq_acc'] = np.where(shift_df['freq_ratio'] > 1, 1, 0)\n",
        "# shift_df['val_rate_acc'] = np.where(shift_df['val_rate_ratio'] < 1, 1, 0)\n",
        "\n",
        "# shift_df = shift_df[~np.isinf(shift_df['freq_ratio']) & ~(np.isinf(shift_df['conc_ratio'])) & ~(np.isinf(shift_df['val_rate_ratio']))]"
      ],
      "metadata": {
        "id": "OXDdEcqxVdzR",
        "colab": {
          "base_uri": "https://localhost:8080/"
        },
        "outputId": "5e2444ff-db76-43ca-a259-08a06cd10403"
      },
      "execution_count": 27,
      "outputs": [
        {
          "output_type": "stream",
          "name": "stderr",
          "text": [
            "/usr/local/lib/python3.7/dist-packages/ipykernel_launcher.py:5: SettingWithCopyWarning: \n",
            "A value is trying to be set on a copy of a slice from a DataFrame.\n",
            "Try using .loc[row_indexer,col_indexer] = value instead\n",
            "\n",
            "See the caveats in the documentation: https://pandas.pydata.org/pandas-docs/stable/user_guide/indexing.html#returning-a-view-versus-a-copy\n",
            "  \"\"\"\n",
            "/usr/local/lib/python3.7/dist-packages/ipykernel_launcher.py:6: SettingWithCopyWarning: \n",
            "A value is trying to be set on a copy of a slice from a DataFrame.\n",
            "Try using .loc[row_indexer,col_indexer] = value instead\n",
            "\n",
            "See the caveats in the documentation: https://pandas.pydata.org/pandas-docs/stable/user_guide/indexing.html#returning-a-view-versus-a-copy\n",
            "  \n",
            "/usr/local/lib/python3.7/dist-packages/ipykernel_launcher.py:8: SettingWithCopyWarning: \n",
            "A value is trying to be set on a copy of a slice from a DataFrame.\n",
            "Try using .loc[row_indexer,col_indexer] = value instead\n",
            "\n",
            "See the caveats in the documentation: https://pandas.pydata.org/pandas-docs/stable/user_guide/indexing.html#returning-a-view-versus-a-copy\n",
            "  \n",
            "/usr/local/lib/python3.7/dist-packages/ipykernel_launcher.py:9: SettingWithCopyWarning: \n",
            "A value is trying to be set on a copy of a slice from a DataFrame.\n",
            "Try using .loc[row_indexer,col_indexer] = value instead\n",
            "\n",
            "See the caveats in the documentation: https://pandas.pydata.org/pandas-docs/stable/user_guide/indexing.html#returning-a-view-versus-a-copy\n",
            "  if __name__ == '__main__':\n",
            "/usr/local/lib/python3.7/dist-packages/ipykernel_launcher.py:10: SettingWithCopyWarning: \n",
            "A value is trying to be set on a copy of a slice from a DataFrame.\n",
            "Try using .loc[row_indexer,col_indexer] = value instead\n",
            "\n",
            "See the caveats in the documentation: https://pandas.pydata.org/pandas-docs/stable/user_guide/indexing.html#returning-a-view-versus-a-copy\n",
            "  # Remove the CWD from sys.path while we load stuff.\n",
            "/usr/local/lib/python3.7/dist-packages/ipykernel_launcher.py:13: SettingWithCopyWarning: \n",
            "A value is trying to be set on a copy of a slice from a DataFrame.\n",
            "Try using .loc[row_indexer,col_indexer] = value instead\n",
            "\n",
            "See the caveats in the documentation: https://pandas.pydata.org/pandas-docs/stable/user_guide/indexing.html#returning-a-view-versus-a-copy\n",
            "  del sys.path[0]\n",
            "/usr/local/lib/python3.7/dist-packages/ipykernel_launcher.py:14: SettingWithCopyWarning: \n",
            "A value is trying to be set on a copy of a slice from a DataFrame.\n",
            "Try using .loc[row_indexer,col_indexer] = value instead\n",
            "\n",
            "See the caveats in the documentation: https://pandas.pydata.org/pandas-docs/stable/user_guide/indexing.html#returning-a-view-versus-a-copy\n",
            "  \n",
            "/usr/local/lib/python3.7/dist-packages/ipykernel_launcher.py:15: SettingWithCopyWarning: \n",
            "A value is trying to be set on a copy of a slice from a DataFrame.\n",
            "Try using .loc[row_indexer,col_indexer] = value instead\n",
            "\n",
            "See the caveats in the documentation: https://pandas.pydata.org/pandas-docs/stable/user_guide/indexing.html#returning-a-view-versus-a-copy\n",
            "  from ipykernel import kernelapp as app\n"
          ]
        }
      ]
    },
    {
      "cell_type": "code",
      "source": [
        "# run logistic regression on 5-fold cross validation, for each of the realization thresholds (>0, >1, and >5)\n",
        "\n",
        "realizations = [0, 1, 5]\n",
        "\n",
        "log_accuracy = []\n",
        "\n",
        "for i in range(len(realizations)):\n",
        "  filtered_shift_df = shift_df[shift_df['realizations']> realizations[i]]\n",
        "\n",
        "  X = filtered_shift_df[['conc_diff_norm', 'freq_diff_norm', 'val_rate_diff_norm']].copy().to_numpy()\n",
        "  y = filtered_shift_df['accurate'].copy().to_numpy().astype(int)\n",
        "\n",
        "  acc = 0\n",
        "  # coefs = [0]*len(X[0])\n",
        "\n",
        "  for i in range(10):\n",
        "\n",
        "    model = LogisticRegression(solver='liblinear', random_state=i)\n",
        "\n",
        "    scores = cross_val_score(model, X, y, cv=5)\n",
        "    \n",
        "    acc += np.mean(scores)\n",
        "\n",
        "  log_accuracy.append(acc/10)"
      ],
      "metadata": {
        "id": "UZkzXypae5hy"
      },
      "execution_count": 28,
      "outputs": []
    },
    {
      "cell_type": "markdown",
      "source": [
        "## figures"
      ],
      "metadata": {
        "id": "oZrc3paDczsd"
      }
    },
    {
      "cell_type": "code",
      "source": [
        "#@title accuracy plot with ONLY all pairs (no realization filter)\n",
        "\n",
        "# heights = np.asarray([conc_accuracy, val_rate_accuracy, freq_accuracy, log_accuracy]).T\n",
        "# heights = [round(i*100, 1) for i in heights[0]]\n",
        "\n",
        "# x = np.arange(len(heights))  # the label locations\n",
        "\n",
        "# fig, ax = plt.subplots()\n",
        "# rects = ax.bar(x, heights)\n",
        "\n",
        "# # # Add some text for labels, title and custom x-axis tick labels, etc.\n",
        "# ax.set_ylabel('Accuracy (%)')\n",
        "# ax.set_title('Direction Accuracy')\n",
        "# ax.set_xticks(x, labels=['Concreteness', 'Valence', 'Frequency', 'Combined'])\n",
        "# ax.bar_label(rects, padding=3)\n",
        "# ax.set_ylim(0, 85)\n",
        "\n",
        "# ax.axhline(50, linestyle='--', c='red')\n",
        "\n",
        "# plt.show()"
      ],
      "metadata": {
        "id": "ehO01hULci4v",
        "cellView": "form"
      },
      "execution_count": 29,
      "outputs": []
    },
    {
      "cell_type": "code",
      "source": [
        "# create the figure\n",
        "\n",
        "labels  = ['Concreteness', 'Valence', 'Frequency', 'Combined']\n",
        "\n",
        "accuracies = np.asarray([conc_accuracy, val_rate_accuracy, freq_accuracy, log_accuracy]).T\n",
        "accuracies = [[round(j*100, 1) for j in list] for list in accuracies]\n",
        "\n",
        "x = np.arange(len(labels))  # the label locations\n",
        "width = 0.35  # the width of the bars\n",
        "\n",
        "fig, axs = plt.subplots(1, 3, figsize=(9, 3), sharey=True)\n",
        "\n",
        "## general ax stuff\n",
        "axs[0].set_ylim(0, 100)\n",
        "axs[0].set_ylabel('Accuracy (%)')\n",
        "# fig.suptitle('Accuracy for different realization filters')\n",
        "\n",
        "## no filter on realizations\n",
        "\n",
        "rects = axs[0].bar(x, accuracies[0])\n",
        "\n",
        "# Add some text for labels, title and custom x-axis tick labels, etc.\n",
        "axs[0].set_xticks(x, labels=labels, rotation=90)\n",
        "axs[0].bar_label(rects, padding=3)\n",
        "axs[0].set_title(\"All pairs\")\n",
        "axs[0].axhline(50, linestyle='--', c='red')\n",
        "\n",
        "##  realizations > 1\n",
        "\n",
        "rects = axs[1].bar(x, accuracies[1])\n",
        "\n",
        "# Add some text for labels, title and custom x-axis tick labels, etc.\n",
        "axs[1].set_xticks(x, labels=labels, rotation=90)\n",
        "axs[1].bar_label(rects, padding=3)\n",
        "axs[1].set_title(\"Realizations > 1\")\n",
        "axs[1].axhline(50, linestyle='--', c='red')\n",
        "\n",
        "##  realizations > 5\n",
        "\n",
        "rects = axs[2].bar(x, accuracies[2])\n",
        "\n",
        "# Add some text for labels, title and custom x-axis tick labels, etc.\n",
        "axs[2].set_xticks(x, labels=labels, rotation=90)\n",
        "axs[2].bar_label(rects, padding=3)\n",
        "axs[2].set_title(\"Realizations > 5\")\n",
        "axs[2].axhline(50, linestyle='--', c='red')\n",
        "\n",
        "plt.show()"
      ],
      "metadata": {
        "colab": {
          "base_uri": "https://localhost:8080/",
          "height": 285
        },
        "id": "-CJ_mNWFrOz-",
        "outputId": "140d6522-c5a1-4c0e-8a03-c72176e556bd"
      },
      "execution_count": 30,
      "outputs": [
        {
          "output_type": "display_data",
          "data": {
            "text/plain": [
              "<Figure size 648x216 with 3 Axes>"
            ],
            "image/png": "[encoded data removed]"
          },
          "metadata": {
            "needs_background": "light"
          }
        }
      ]
    },
    {
      "cell_type": "code",
      "source": [
        "#@title plot for coefficients on Linear regression model  -- doesn't work anymore because we're not recording coefficients, but might want to bring this back\n",
        "\n",
        "# heights = [round(i, 2) for i in coefs[0]]\n",
        "\n",
        "# x = np.arange(len(heights))  # the label locations\n",
        "\n",
        "# fig, ax = plt.subplots()\n",
        "# rects = ax.bar(x, heights)\n",
        "\n",
        "# # # Add some text for labels, title and custom x-axis tick labels, etc.\n",
        "# ax.set_ylabel('Coefficient')\n",
        "# ax.set_title('Coefficients on linear regression model')\n",
        "# ax.set_xticks(x, labels=['Concreteness', 'Frequency', 'Valence', 'Valence Rate'])\n",
        "# ax.bar_label(rects, padding=3)\n",
        "# ax.set_ylim(0, 2)\n",
        "\n",
        "# plt.show()"
      ],
      "metadata": {
        "id": "SpFVWW_5mrPX",
        "cellView": "form"
      },
      "execution_count": 31,
      "outputs": []
    },
    {
      "cell_type": "markdown",
      "source": [
        "## languages plot"
      ],
      "metadata": {
        "id": "EUimyIXqQ97f"
      }
    },
    {
      "cell_type": "code",
      "source": [
        "# import and clean the dataset\n",
        "\n",
        "# get the dataset all figured out \n",
        "datSemShift = pd.read_csv('/content/drive/MyDrive/ColabFiles/datsemshift.csv')\n",
        "\n",
        "# filter semantic shifts\n",
        "datSemShift = datSemShift[(datSemShift['gendirection'] == '→')]\n",
        "datSemShift = datSemShift[(datSemShift['type'] == ' Semantic evolution') | (datSemShift['type'] == ' Polysemy')]\n",
        "datSemShift = datSemShift[(datSemShift['language1'] == datSemShift['language2'])]\n",
        "datSemShift = datSemShift[(datSemShift['lexeme1'] == datSemShift['lexeme2'])]\n",
        "datSemShift = datSemShift[~datSemShift['meaning1'].str.contains('<')]\n",
        "datSemShift = datSemShift[~datSemShift['meaning2'].str.contains('<')]\n",
        "datSemShift = datSemShift[(datSemShift['status']!='Suspended') & (datSemShift['status']!='Rejected')]\n",
        "datSemShift = datSemShift[['meaning1', 'meaning2', 'language1']]\n",
        "datSemShift = datSemShift.reset_index(drop=True)\n",
        "\n",
        "dumb_british_spellings = {\"vapour\":\"vapor\", \"honour\":\"honor\", \"organisation\":\"organization\", \"harbour\":\"harbor\", \"odour\":\"odor\", \"centre\":\"center\", \"analyse\":\"analyze\", \"theatre\":\"theater\", \"colour\":\"color\", \"rumour\":\"rumor\", \"behaviour\":\"behavior\", \"armour\":\"armor\", \"grey\":\"gray\", \n",
        "\"mould\":\"mold\", \"neighbour\":\"neighbor\", \"axe\":\"ax\", \"moustache\":\"mustache\", \"plough\":\"plow\", \"mandarine\":\"mandarin\"}\n",
        "words_to_replace = {\"adj\":\"\", \"gipsy\":\"\", \"albumen\":\"\", \"campanula\":\"\", \"boletus edulis\":\"penny bun fungus\", \"ursus\":\"\", \"swearword\":\"swear word\", 'adj.':\"\", \"coleus\":\"\", 'n.':\"\", 'ОК':\"ok\", \"typha\":\"cattail\", \"pacifica\":\"peaceful\", \"mustella\":\"\", \"smail\":\"\", \"one’s\":\"\", \"spurflower\":\"perennial plant\", \"sabre\":\"\",\"equus\":\"\", \"etc.\":\"\", \"ciconia\":\"\",  \"aër\":\"\", \"panthera\":\"panther\", \"еrinaceus\":\"\", \"e.g.\":\"\", \"centaurea\":\"thistle\", \"moschiferus\":\"\", \"apterus\":\"\", \"pyrrhocoris\":\"\", \"smn.\":\"\", \"pritchardia\":\"\", \"100\":\"one hundred\", \"sabrefish\":\"sabre carp\", \"putorius\":\"\", \"adv.\":\"\", \"petromyzontidae\":\"\", \"botaurus\":\"\", \"standart\":\"standard\", \"leccinum\":\"\", \"sg.\":\"\", \"gemini\":\"Gemini\", \"tabanidae\":\"\", \"anagallis\":\"\", \"decorticate\":\"stiff\", \"albugo\":\"\", \"frangula\":\"\", \"sciurus\":\"\", \"scrofa\":\"\", \"relig.\":\"\", \"headstream\":\"head stream\", \"solanum\":\"\", \"anguilla\":\"\", \"anat.\":\"\", \"nectarinia\":\"\", \"ipomoea\":\"\", \"repaire\":\"repair\", \"vaccinium\":\"\", \"smth\":\"\", \"smth.\":\"\", \"bubo\":\"\", \"deflorate\":\"remove flowers\", \"tr.\":\"\", \"traveller\":\"traveler\", \"bubalis\":\"\", \"marmorata\":\"\", \"furuncul\":\"\", \"caballus\":\"\", \"microchiroptera\":\"\", \"urtica\":\"\", \"plumbum\":\"\", \"biol.\":\"\", \"intr.\":\"\", \"bubalus\":\"\", \"columba\":\"\", \"cucurbita\":\"\", \"goldcrest\":\"small bird\", \"melongena\":\"\", \"picea\":\"\", \"arvensis\":\"\", \"moschus\":\"\", \"psidium\":\"\", \"radiointerference\":\"radio interference\", \"owre\":\"\", \"ricinus\":\"\", \"capricorn\":\"goat zodiac sign\", \"mustela\":\"\", \"pandion\":\"\", \"adj.of\":\"\", \"nomadize\":\"become nomadic\", \"smb.\":\"\", \"kneepit\":\"knee pit\", \"num.\":\"\", \"pl.\":\"\", \"extortioner\":\"extortion doer\", \"enculturate\":\"assimilate\", \"asquint\":\"squint\", \"uliginosum\":\"\", \"heteroptera\":\"\", \"ок\":\"ok\", \"abies\":\"fir\", \"stratiotes\":\"\", \"fiddlestick\":\"violin bow\", \"scabrum\":\"\", \"grus\":\"bird\", \"acarina\":\"\", \"guajava\":\"\", \"bitterling\":\"freshwater fish\", \"lycopersicum\":\"\", \"lutra\":\"otter\", \"plectranthus\":\"\", \"macereed\":\"mace reed\", \"24\":\"twenty four\", \"acris\":\"\", \"rotundifolius\":\"common weed\", \"gutturalis\":\"\", \"oxyeleotris\":\"\", \"geometrid\":\"\", \"citrullus\":\"\", \"lepus\":\"\", \"motacilla\":\"\", \"crake\":\"bird\", \"haliaёtus\":\"\", \"glasswort\":\"herb\", \"quinsy\":\"throat abscess\", \"shoulderblade\":\"shoulder blade\", \"spearthrower\":\"spear thrower\", \"ridgepole\":\"ridge pole\", \"pimpleface\":\"pimple face\", \"tumpline\":\"backpack\", \"cushma\":\"clothing\", \"curassow\":\"tropical bird\", \"banisterium\":\"plant\", \"paca\":\"rodent\", \"netbag\":\"net bag\", \"muntjacs\":\"barking deer\"}\n",
        "#Replaces obscure words with recognizable words, replaces parts of speech with nothing, same with science words\n",
        "\n",
        "\n",
        "def clean(s): # Here is the main method where we clean senses\n",
        "  s = str(s)\n",
        "  for i in \",:\":\n",
        "    s = s.replace(i, \" or\")\n",
        "  s = s.replace(\"/\", \" or \")\n",
        "  for i in \"()\\t\\n<>?’\":\n",
        "    s = s.replace(i, \"\")\n",
        "  for i in \"-\":\n",
        "    s = s.replace(i, \" \")\n",
        "  should_be_upper = {}\n",
        "  for w in s.split(\" \"):\n",
        "    if w != \"\" and w[0].isupper():\n",
        "      should_be_upper = {w.lower():w.capitalize()} # Keeps track of which words should be capitalized\n",
        "  s = s.lower() # Converts to lowercase\n",
        "  for i in dumb_british_spellings: # Replaces British spelling with American ones\n",
        "    s = s.replace(i, dumb_british_spellings[i])\n",
        "  for i in words_to_replace: # Replaces all other obscure words \n",
        "    s = s.replace(i, words_to_replace[i])\n",
        "  for i in should_be_upper: # Uppercases words which should be uppercase\n",
        "    s = s.replace(i, should_be_upper[i])\n",
        "  if len(s) > 2 and s[:3] == \" or\": # If the beginning word is or, that means our string was of the form \"[removed word],\" and we should delete the or\n",
        "    s = s[3:]\n",
        "  if \"vs.\" in s: # For cases like \"land (vs. sea)\"\" we want to convert this to \"land\"\n",
        "    ind = s.find(\"vs.\")\n",
        "    s = s[:ind]\n",
        "  s = s.replace(\".\",\"\")\n",
        "  return s\n",
        "\n",
        "languages_df = datSemShift.copy()\n",
        "languages_df['meaning1'] = languages_df[\"meaning1\"].apply(clean)\n",
        "languages_df['meaning2'] = languages_df[\"meaning2\"].apply(clean)"
      ],
      "metadata": {
        "id": "U2o8AD7cBWa6"
      },
      "execution_count": 32,
      "outputs": []
    },
    {
      "cell_type": "code",
      "source": [
        "# get the useful databases\n",
        "language_count_df = languages_df.groupby('language1').count().sort_values(by='meaning1', ascending=False)\n",
        "common_languages = list(language_count_df[language_count_df['meaning1'] > 100].index)\n",
        "\n",
        "# merge in freq/conc/val data to this database\n",
        "languages_df = reduce(lambda  left,right: pd.merge(left,right,left_on='meaning1',right_on='Word', how='left'), [languages_df, conc_sense_df]).drop('Word', axis=1)\n",
        "languages_df = reduce(lambda  left,right: pd.merge(left,right,left_on='meaning2',right_on='Word', how='left'), [languages_df, conc_sense_df]).drop('Word', axis=1)\n",
        "languages_df = reduce(lambda  left,right: pd.merge(left,right,left_on='meaning1',right_on='Word', how='left'), [languages_df, freq_sense_df]).drop('Word', axis=1)\n",
        "languages_df = reduce(lambda  left,right: pd.merge(left,right,left_on='meaning2',right_on='Word', how='left'), [languages_df, freq_sense_df]).drop('Word', axis=1)\n",
        "languages_df = reduce(lambda  left,right: pd.merge(left,right,left_on='meaning1',right_on='Word', how='left'), [languages_df, val_sense_df]).drop('Word', axis=1)\n",
        "languages_df = reduce(lambda  left,right: pd.merge(left,right,left_on='meaning2',right_on='Word', how='left'), [languages_df, val_sense_df]).drop('Word', axis=1)"
      ],
      "metadata": {
        "id": "Y61jh062Bbij"
      },
      "execution_count": 33,
      "outputs": []
    },
    {
      "cell_type": "code",
      "source": [
        "# calculate accuracy of each variable for each shift\n",
        "\n",
        "languages_df['freq_x'] = np.log(languages_df['freq_x'])\n",
        "languages_df['freq_y'] = np.log(languages_df['freq_y'])\n",
        "\n",
        "languages_df['conc_diff'] = languages_df['conc_y'] - languages_df['conc_x']\n",
        "languages_df['freq_diff'] = languages_df['conc_y'] - languages_df['freq_x']\n",
        "languages_df['val_diff'] = languages_df['val_y'] - languages_df['val_x']\n",
        "languages_df['val_rate_diff'] = languages_df['val_rate_y'] - languages_df['val_rate_x']\n",
        "\n",
        "languages_df['conc_ratio'] = languages_df['conc_x'] / languages_df['conc_y']\n",
        "languages_df['freq_ratio'] = languages_df['freq_x'] / languages_df['freq_y']\n",
        "languages_df['val_ratio'] = languages_df['val_x'] / languages_df['val_y']\n",
        "languages_df['val_rate_ratio'] = languages_df['val_rate_x'] / languages_df['val_rate_y']\n",
        "\n",
        "languages_df['conc_acc'] = np.where(languages_df['conc_ratio'] > 1, 1, 0)\n",
        "languages_df['freq_acc'] = np.where(languages_df['freq_ratio'] > 1, 1, 0)\n",
        "languages_df['val_acc'] = np.where(languages_df['val_ratio'] > 1, 1, 0)\n",
        "languages_df['val_rate_acc'] = np.where(languages_df['val_rate_ratio'] < 1, 1, 0)\n",
        "\n",
        "languages_df['realizations'] = 1"
      ],
      "metadata": {
        "colab": {
          "base_uri": "https://localhost:8080/"
        },
        "id": "SZmdeKCfCmgk",
        "outputId": "e7de56b1-351a-4fd2-fcd5-195113cbc7d6"
      },
      "execution_count": 34,
      "outputs": [
        {
          "output_type": "stream",
          "name": "stderr",
          "text": [
            "/usr/local/lib/python3.7/dist-packages/pandas/core/arraylike.py:364: RuntimeWarning: divide by zero encountered in log\n",
            "  result = getattr(ufunc, method)(*inputs, **kwargs)\n"
          ]
        }
      ]
    },
    {
      "cell_type": "code",
      "source": [
        "# get accuracy of each variable per language\n",
        "\n",
        "conc_languages_df = languages_df[~np.isnan(languages_df['conc_ratio'])].groupby('language1').sum()[['conc_acc', 'realizations']] # get accurate and total realizations\n",
        "conc_languages_df['accuracy'] = conc_languages_df['conc_acc'] / conc_languages_df['realizations'] # calculate accuracy by language\n",
        "\n",
        "freq_languages_df = languages_df[~np.isnan(languages_df['freq_ratio'])].groupby('language1').sum()[['freq_acc', 'realizations']] # get accurate and total realizations\n",
        "freq_languages_df['accuracy'] = freq_languages_df['freq_acc'] / freq_languages_df['realizations'] # calculate accuracy by language\n",
        "\n",
        "val_rate_languages_df = languages_df[~np.isnan(languages_df['val_rate_ratio'])].groupby('language1').sum()[['val_rate_acc', 'realizations']] # get accurate and total realizations\n",
        "val_rate_languages_df['accuracy'] = val_rate_languages_df['val_rate_acc'] / val_rate_languages_df['realizations'] # calculate accuracy by language"
      ],
      "metadata": {
        "id": "fnHVxulYDP3o"
      },
      "execution_count": 35,
      "outputs": []
    },
    {
      "cell_type": "code",
      "source": [
        "# create the database and sort by language\n",
        "\n",
        "common_languages.sort()\n",
        "accuracy_df = pd.DataFrame(common_languages).rename(columns={0:'language'})\n",
        "accuracy_df = reduce(lambda  left,right: pd.merge(left,right,left_on='language',right_on='language1', how='left'), [accuracy_df, conc_languages_df]).rename(columns={'accuracy':'conc_accuracy'})\n",
        "accuracy_df = reduce(lambda  left,right: pd.merge(left,right,left_on='language',right_on='language1', how='left'), [accuracy_df, freq_languages_df]).rename(columns={'accuracy':'freq_accuracy'})\n",
        "accuracy_df = reduce(lambda  left,right: pd.merge(left,right,left_on='language',right_on='language1', how='left'), [accuracy_df, val_rate_languages_df]).rename(columns={'accuracy':'val_rate_accuracy'})\n",
        "accuracy_df = accuracy_df[['language', 'conc_accuracy', 'val_rate_accuracy', 'freq_accuracy']]\n",
        "accuracy_df = accuracy_df.sort_values(by='language')"
      ],
      "metadata": {
        "id": "U-Jn9t8hGxPV"
      },
      "execution_count": 36,
      "outputs": []
    },
    {
      "cell_type": "code",
      "source": [
        "# create the figure \n",
        "\n",
        "common_languages.sort()\n",
        "labels = common_languages\n",
        "\n",
        "x = np.arange(len(labels))  # the label locations\n",
        "width = 0.35  # the width of the bars\n",
        "\n",
        "# fig, ax = plt.subplots()\n",
        "ax = accuracy_df.plot(kind='bar', figsize=(15, 3))\n",
        "\n",
        "# Add some text for labels, title and custom x-axis tick labels, etc.\n",
        "ax.set_ylabel('Accuracy')\n",
        "ax.set_title('Accuracy Per Language')\n",
        "ax.set_xticks(x, labels=labels, rotation=90)\n",
        "ax.legend(labels=['Concretness', 'Valence', 'Frequency'], bbox_to_anchor=(1, 1.05))\n",
        "ax.set_ylim(0, 1)\n",
        "\n",
        "ax.axhline(0.5, linestyle='--', c='red')\n",
        "\n",
        "plt.show()"
      ],
      "metadata": {
        "colab": {
          "base_uri": "https://localhost:8080/",
          "height": 320
        },
        "id": "gcqNt5jYEmL9",
        "outputId": "0228cf51-8e48-4c38-b109-fb8e94f17326"
      },
      "execution_count": 37,
      "outputs": [
        {
          "output_type": "display_data",
          "data": {
            "text/plain": [
              "<Figure size 1080x216 with 1 Axes>"
            ],
            "image/png": "[encoded data removed]"
          },
          "metadata": {
            "needs_background": "light"
          }
        }
      ]
    },
    {
      "cell_type": "markdown",
      "source": [
        "# ignore all of this stuff"
      ],
      "metadata": {
        "id": "qvVS1i5eKwA3"
      }
    },
    {
      "cell_type": "markdown",
      "source": [
        "## accuracy for concreteness, frequency, and valence\n",
        "\n",
        "#### on cleaned data\n",
        "NOT conservative:\n",
        "* 68.5 with 2849 samples\n",
        "* 51.6 with 2874 samples\n",
        "* 50.6 with 2631 samples\n",
        "\n",
        "conservative:\n",
        "* 73.5 with 1048 samples\n",
        "* 54.8 with 1013 samples\n",
        "* 55.3 with 889 samples"
      ],
      "metadata": {
        "id": "a02WRO0p-3tI"
      }
    },
    {
      "cell_type": "markdown",
      "source": [
        "## testing logsistic regression"
      ],
      "metadata": {
        "id": "bJq68orx4rs5"
      }
    },
    {
      "cell_type": "code",
      "source": [
        "# normalize\n",
        "\n",
        "from scipy.special import softmax\n",
        "\n",
        "conc_sense_df['normalized_conc'] = conc_sense_df['conc'] # softmax(conc_sense_df['conc'])\n",
        "freq_sense_df['normalized_freq'] = np.log(freq_sense_df['freq']) # softmax(freq_sense_df['freq'])\n",
        "val_sense_df['normalized_val'] = val_sense_df['val'] # softmax(conc_sense_df['conc'])"
      ],
      "metadata": {
        "colab": {
          "base_uri": "https://localhost:8080/"
        },
        "id": "cG1b92QuzYhq",
        "outputId": "f8e85253-5030-40fe-c5be-861877cf45b8"
      },
      "execution_count": null,
      "outputs": [
        {
          "output_type": "stream",
          "name": "stderr",
          "text": [
            "/usr/local/lib/python3.7/dist-packages/pandas/core/arraylike.py:364: RuntimeWarning: divide by zero encountered in log\n",
            "  result = getattr(ufunc, method)(*inputs, **kwargs)\n"
          ]
        }
      ]
    },
    {
      "cell_type": "code",
      "source": [
        "shift_vars_df = reduce(lambda  left,right: pd.merge(left,right,left_on='meaning1',right_on='Word', how='left'), [sem_shift_df, conc_sense_df])\n",
        "shift_vars_df = reduce(lambda  left,right: pd.merge(left,right,left_on='meaning2',right_on='Word', how='left'), [shift_vars_df, conc_sense_df])\n",
        "shift_vars_df = reduce(lambda  left,right: pd.merge(left,right,left_on='meaning1',right_on='Word', how='left'), [shift_vars_df, freq_sense_df])\n",
        "shift_vars_df = reduce(lambda  left,right: pd.merge(left,right,left_on='meaning2',right_on='Word', how='left'), [shift_vars_df, freq_sense_df])\n",
        "shift_vars_df = reduce(lambda  left,right: pd.merge(left,right,left_on='meaning1',right_on='Word', how='left'), [shift_vars_df, val_sense_df])\n",
        "shift_vars_df = reduce(lambda  left,right: pd.merge(left,right,left_on='meaning2',right_on='Word', how='left'), [shift_vars_df, val_sense_df])\n",
        "\n",
        "shift_vars_df['freq_diff'] = shift_vars_df['normalized_freq_y'] - shift_vars_df['normalized_freq_x']\n",
        "shift_vars_df['conc_diff'] = shift_vars_df['normalized_conc_y'] - shift_vars_df['normalized_conc_x']\n",
        "shift_vars_df['val_diff'] = shift_vars_df['normalized_val_y'] - shift_vars_df['normalized_val_x']\n",
        "\n",
        "shift_vars_df['freq_ratio'] = shift_vars_df['normalized_freq_x']/ shift_vars_df['normalized_freq_y']\n",
        "shift_vars_df['conc_ratio'] = shift_vars_df['normalized_conc_x']/shift_vars_df['normalized_conc_y']\n",
        "shift_vars_df['val_ratio'] = shift_vars_df['normalized_val_x']/shift_vars_df['normalized_val_y']"
      ],
      "metadata": {
        "colab": {
          "base_uri": "https://localhost:8080/"
        },
        "id": "Z2fTJqtd1Fr1",
        "outputId": "8ed9dcd4-3a55-4c4a-9759-f68004874277"
      },
      "execution_count": null,
      "outputs": [
        {
          "output_type": "stream",
          "name": "stderr",
          "text": [
            "/usr/local/lib/python3.7/dist-packages/ipykernel_launcher.py:4: FutureWarning: Passing 'suffixes' which cause duplicate columns {'Word_x'} in the result is deprecated and will raise a MergeError in a future version.\n",
            "  after removing the cwd from sys.path.\n",
            "/usr/local/lib/python3.7/dist-packages/ipykernel_launcher.py:6: FutureWarning: Passing 'suffixes' which cause duplicate columns {'Word_x'} in the result is deprecated and will raise a MergeError in a future version.\n",
            "  \n"
          ]
        }
      ]
    },
    {
      "cell_type": "code",
      "source": [
        "shift_vars_df"
      ],
      "metadata": {
        "colab": {
          "base_uri": "https://localhost:8080/",
          "height": 626
        },
        "id": "SVtezwSAa35G",
        "outputId": "f07b1126-64a9-43b7-895e-9859d17842c3"
      },
      "execution_count": null,
      "outputs": [
        {
          "output_type": "execute_result",
          "data": {
            "text/plain": [
              "      Unnamed: 0         meaning1                     meaning2  \\\n",
              "0              0        gunpowder                        quick   \n",
              "1              1        gunpowder  small quantity of something   \n",
              "2              2           August                      harvest   \n",
              "3              3      common weed                       potato   \n",
              "4              4           Easter                     ladybird   \n",
              "...          ...              ...                          ...   \n",
              "2936        2936        young man                      soldier   \n",
              "2937        2937  younger brother                        bear    \n",
              "2938        2938  younger brother                      husband   \n",
              "2939        2939  younger brother                        owner   \n",
              "2940        2940            zebra          pedestrian crossing   \n",
              "\n",
              "       meaning1_clean               meaning2_clean           Word_x  conc_x  \\\n",
              "0           gunpowder                        quick        gunpowder   4.790   \n",
              "1           gunpowder  small quantity of something        gunpowder   4.790   \n",
              "2              August                      harvest           August   3.040   \n",
              "3         common weed                       potato      common weed   3.485   \n",
              "4              Easter                     ladybird           Easter   2.830   \n",
              "...               ...                          ...              ...     ...   \n",
              "2936        young man                      soldier        young man   3.975   \n",
              "2937  younger brother                        bear   younger brother   3.610   \n",
              "2938  younger brother                      husband  younger brother   3.610   \n",
              "2939  younger brother                        owner  younger brother   3.610   \n",
              "2940            zebra          pedestrian crossing            zebra   4.860   \n",
              "\n",
              "      normalized_conc_x                       Word_y  conc_y  ...  \\\n",
              "0                 4.790                        quick   2.890  ...   \n",
              "1                 4.790  small quantity of something   2.670  ...   \n",
              "2                 3.040                      harvest   4.000  ...   \n",
              "3                 3.485                       potato   4.850  ...   \n",
              "4                 2.830                     ladybird   4.760  ...   \n",
              "...                 ...                          ...     ...  ...   \n",
              "2936              3.975                      soldier   4.720  ...   \n",
              "2937              3.610                        bear    4.880  ...   \n",
              "2938              3.610                      husband   4.110  ...   \n",
              "2939              3.610                        owner   3.780  ...   \n",
              "2940              4.860          pedestrian crossing   3.915  ...   \n",
              "\n",
              "      normalized_val_x                       Word_y   val_y  normalized_val_y  \\\n",
              "0               0.4250                        quick  0.7040            0.7040   \n",
              "1               0.4250  small quantity of something  0.5310            0.5310   \n",
              "2               0.6520                      harvest  0.7810            0.7810   \n",
              "3               0.5295                       potato  0.5410            0.5410   \n",
              "4                  NaN                          NaN     NaN               NaN   \n",
              "...                ...                          ...     ...               ...   \n",
              "2936               NaN                      soldier  0.3920            0.3920   \n",
              "2937            0.8230                        bear   0.4480            0.4480   \n",
              "2938            0.8230                      husband  0.7710            0.7710   \n",
              "2939            0.8230                        owner  0.7760            0.7760   \n",
              "2940            0.5670          pedestrian crossing  0.4935            0.4935   \n",
              "\n",
              "     freq_diff  conc_diff  val_diff freq_ratio  conc_ratio  val_ratio  \n",
              "0     5.283445     -1.900    0.2790   0.414325    1.657439   0.603693  \n",
              "1     6.812162     -2.120    0.1060   0.354287    1.794007   0.800377  \n",
              "2    -2.597417      0.960    0.1290   1.447667    0.760000   0.834827  \n",
              "3    -1.693649      1.365    0.0115   1.255022    0.718557   0.978743  \n",
              "4          NaN      1.930       NaN        NaN    0.594538        NaN  \n",
              "...        ...        ...       ...        ...         ...        ...  \n",
              "2936 -2.854352      0.745       NaN   1.356288    0.842161        NaN  \n",
              "2937 -1.238433      1.270   -0.3750   1.163279    0.739754   1.837054  \n",
              "2938  0.734405      0.500   -0.0520   0.923160    0.878345   1.067445  \n",
              "2939 -0.863581      0.170   -0.0470   1.108495    0.955026   1.060567  \n",
              "2940  1.524078     -0.945   -0.0735   0.740268    1.241379   1.148936  \n",
              "\n",
              "[2941 rows x 29 columns]"
            ],
            "text/html": [
              "\n",
              "  <div id=\"df-cb2e0d94-38c9-4256-a129-3bdf04ab1bc9\">\n",
              "    <div class=\"colab-df-container\">\n",
              "      <div>\n",
              "<style scoped>\n",
              "    .dataframe tbody tr th:only-of-type {\n",
              "        vertical-align: middle;\n",
              "    }\n",
              "\n",
              "    .dataframe tbody tr th {\n",
              "        vertical-align: top;\n",
              "    }\n",
              "\n",
              "    .dataframe thead th {\n",
              "        text-align: right;\n",
              "    }\n",
              "</style>\n",
              "<table border=\"1\" class=\"dataframe\">\n",
              "  <thead>\n",
              "    <tr style=\"text-align: right;\">\n",
              "      <th></th>\n",
              "      <th>Unnamed: 0</th>\n",
              "      <th>meaning1</th>\n",
              "      <th>meaning2</th>\n",
              "      <th>meaning1_clean</th>\n",
              "      <th>meaning2_clean</th>\n",
              "      <th>Word_x</th>\n",
              "      <th>conc_x</th>\n",
              "      <th>normalized_conc_x</th>\n",
              "      <th>Word_y</th>\n",
              "      <th>conc_y</th>\n",
              "      <th>...</th>\n",
              "      <th>normalized_val_x</th>\n",
              "      <th>Word_y</th>\n",
              "      <th>val_y</th>\n",
              "      <th>normalized_val_y</th>\n",
              "      <th>freq_diff</th>\n",
              "      <th>conc_diff</th>\n",
              "      <th>val_diff</th>\n",
              "      <th>freq_ratio</th>\n",
              "      <th>conc_ratio</th>\n",
              "      <th>val_ratio</th>\n",
              "    </tr>\n",
              "  </thead>\n",
              "  <tbody>\n",
              "    <tr>\n",
              "      <th>0</th>\n",
              "      <td>0</td>\n",
              "      <td>gunpowder</td>\n",
              "      <td>quick</td>\n",
              "      <td>gunpowder</td>\n",
              "      <td>quick</td>\n",
              "      <td>gunpowder</td>\n",
              "      <td>4.790</td>\n",
              "      <td>4.790</td>\n",
              "      <td>quick</td>\n",
              "      <td>2.890</td>\n",
              "      <td>...</td>\n",
              "      <td>0.4250</td>\n",
              "      <td>quick</td>\n",
              "      <td>0.7040</td>\n",
              "      <td>0.7040</td>\n",
              "      <td>5.283445</td>\n",
              "      <td>-1.900</td>\n",
              "      <td>0.2790</td>\n",
              "      <td>0.414325</td>\n",
              "      <td>1.657439</td>\n",
              "      <td>0.603693</td>\n",
              "    </tr>\n",
              "    <tr>\n",
              "      <th>1</th>\n",
              "      <td>1</td>\n",
              "      <td>gunpowder</td>\n",
              "      <td>small quantity of something</td>\n",
              "      <td>gunpowder</td>\n",
              "      <td>small quantity of something</td>\n",
              "      <td>gunpowder</td>\n",
              "      <td>4.790</td>\n",
              "      <td>4.790</td>\n",
              "      <td>small quantity of something</td>\n",
              "      <td>2.670</td>\n",
              "      <td>...</td>\n",
              "      <td>0.4250</td>\n",
              "      <td>small quantity of something</td>\n",
              "      <td>0.5310</td>\n",
              "      <td>0.5310</td>\n",
              "      <td>6.812162</td>\n",
              "      <td>-2.120</td>\n",
              "      <td>0.1060</td>\n",
              "      <td>0.354287</td>\n",
              "      <td>1.794007</td>\n",
              "      <td>0.800377</td>\n",
              "    </tr>\n",
              "    <tr>\n",
              "      <th>2</th>\n",
              "      <td>2</td>\n",
              "      <td>August</td>\n",
              "      <td>harvest</td>\n",
              "      <td>August</td>\n",
              "      <td>harvest</td>\n",
              "      <td>August</td>\n",
              "      <td>3.040</td>\n",
              "      <td>3.040</td>\n",
              "      <td>harvest</td>\n",
              "      <td>4.000</td>\n",
              "      <td>...</td>\n",
              "      <td>0.6520</td>\n",
              "      <td>harvest</td>\n",
              "      <td>0.7810</td>\n",
              "      <td>0.7810</td>\n",
              "      <td>-2.597417</td>\n",
              "      <td>0.960</td>\n",
              "      <td>0.1290</td>\n",
              "      <td>1.447667</td>\n",
              "      <td>0.760000</td>\n",
              "      <td>0.834827</td>\n",
              "    </tr>\n",
              "    <tr>\n",
              "      <th>3</th>\n",
              "      <td>3</td>\n",
              "      <td>common weed</td>\n",
              "      <td>potato</td>\n",
              "      <td>common weed</td>\n",
              "      <td>potato</td>\n",
              "      <td>common weed</td>\n",
              "      <td>3.485</td>\n",
              "      <td>3.485</td>\n",
              "      <td>potato</td>\n",
              "      <td>4.850</td>\n",
              "      <td>...</td>\n",
              "      <td>0.5295</td>\n",
              "      <td>potato</td>\n",
              "      <td>0.5410</td>\n",
              "      <td>0.5410</td>\n",
              "      <td>-1.693649</td>\n",
              "      <td>1.365</td>\n",
              "      <td>0.0115</td>\n",
              "      <td>1.255022</td>\n",
              "      <td>0.718557</td>\n",
              "      <td>0.978743</td>\n",
              "    </tr>\n",
              "    <tr>\n",
              "      <th>4</th>\n",
              "      <td>4</td>\n",
              "      <td>Easter</td>\n",
              "      <td>ladybird</td>\n",
              "      <td>Easter</td>\n",
              "      <td>ladybird</td>\n",
              "      <td>Easter</td>\n",
              "      <td>2.830</td>\n",
              "      <td>2.830</td>\n",
              "      <td>ladybird</td>\n",
              "      <td>4.760</td>\n",
              "      <td>...</td>\n",
              "      <td>NaN</td>\n",
              "      <td>NaN</td>\n",
              "      <td>NaN</td>\n",
              "      <td>NaN</td>\n",
              "      <td>NaN</td>\n",
              "      <td>1.930</td>\n",
              "      <td>NaN</td>\n",
              "      <td>NaN</td>\n",
              "      <td>0.594538</td>\n",
              "      <td>NaN</td>\n",
              "    </tr>\n",
              "    <tr>\n",
              "      <th>...</th>\n",
              "      <td>...</td>\n",
              "      <td>...</td>\n",
              "      <td>...</td>\n",
              "      <td>...</td>\n",
              "      <td>...</td>\n",
              "      <td>...</td>\n",
              "      <td>...</td>\n",
              "      <td>...</td>\n",
              "      <td>...</td>\n",
              "      <td>...</td>\n",
              "      <td>...</td>\n",
              "      <td>...</td>\n",
              "      <td>...</td>\n",
              "      <td>...</td>\n",
              "      <td>...</td>\n",
              "      <td>...</td>\n",
              "      <td>...</td>\n",
              "      <td>...</td>\n",
              "      <td>...</td>\n",
              "      <td>...</td>\n",
              "      <td>...</td>\n",
              "    </tr>\n",
              "    <tr>\n",
              "      <th>2936</th>\n",
              "      <td>2936</td>\n",
              "      <td>young man</td>\n",
              "      <td>soldier</td>\n",
              "      <td>young man</td>\n",
              "      <td>soldier</td>\n",
              "      <td>young man</td>\n",
              "      <td>3.975</td>\n",
              "      <td>3.975</td>\n",
              "      <td>soldier</td>\n",
              "      <td>4.720</td>\n",
              "      <td>...</td>\n",
              "      <td>NaN</td>\n",
              "      <td>soldier</td>\n",
              "      <td>0.3920</td>\n",
              "      <td>0.3920</td>\n",
              "      <td>-2.854352</td>\n",
              "      <td>0.745</td>\n",
              "      <td>NaN</td>\n",
              "      <td>1.356288</td>\n",
              "      <td>0.842161</td>\n",
              "      <td>NaN</td>\n",
              "    </tr>\n",
              "    <tr>\n",
              "      <th>2937</th>\n",
              "      <td>2937</td>\n",
              "      <td>younger brother</td>\n",
              "      <td>bear</td>\n",
              "      <td>younger brother</td>\n",
              "      <td>bear</td>\n",
              "      <td>younger brother</td>\n",
              "      <td>3.610</td>\n",
              "      <td>3.610</td>\n",
              "      <td>bear</td>\n",
              "      <td>4.880</td>\n",
              "      <td>...</td>\n",
              "      <td>0.8230</td>\n",
              "      <td>bear</td>\n",
              "      <td>0.4480</td>\n",
              "      <td>0.4480</td>\n",
              "      <td>-1.238433</td>\n",
              "      <td>1.270</td>\n",
              "      <td>-0.3750</td>\n",
              "      <td>1.163279</td>\n",
              "      <td>0.739754</td>\n",
              "      <td>1.837054</td>\n",
              "    </tr>\n",
              "    <tr>\n",
              "      <th>2938</th>\n",
              "      <td>2938</td>\n",
              "      <td>younger brother</td>\n",
              "      <td>husband</td>\n",
              "      <td>younger brother</td>\n",
              "      <td>husband</td>\n",
              "      <td>younger brother</td>\n",
              "      <td>3.610</td>\n",
              "      <td>3.610</td>\n",
              "      <td>husband</td>\n",
              "      <td>4.110</td>\n",
              "      <td>...</td>\n",
              "      <td>0.8230</td>\n",
              "      <td>husband</td>\n",
              "      <td>0.7710</td>\n",
              "      <td>0.7710</td>\n",
              "      <td>0.734405</td>\n",
              "      <td>0.500</td>\n",
              "      <td>-0.0520</td>\n",
              "      <td>0.923160</td>\n",
              "      <td>0.878345</td>\n",
              "      <td>1.067445</td>\n",
              "    </tr>\n",
              "    <tr>\n",
              "      <th>2939</th>\n",
              "      <td>2939</td>\n",
              "      <td>younger brother</td>\n",
              "      <td>owner</td>\n",
              "      <td>younger brother</td>\n",
              "      <td>owner</td>\n",
              "      <td>younger brother</td>\n",
              "      <td>3.610</td>\n",
              "      <td>3.610</td>\n",
              "      <td>owner</td>\n",
              "      <td>3.780</td>\n",
              "      <td>...</td>\n",
              "      <td>0.8230</td>\n",
              "      <td>owner</td>\n",
              "      <td>0.7760</td>\n",
              "      <td>0.7760</td>\n",
              "      <td>-0.863581</td>\n",
              "      <td>0.170</td>\n",
              "      <td>-0.0470</td>\n",
              "      <td>1.108495</td>\n",
              "      <td>0.955026</td>\n",
              "      <td>1.060567</td>\n",
              "    </tr>\n",
              "    <tr>\n",
              "      <th>2940</th>\n",
              "      <td>2940</td>\n",
              "      <td>zebra</td>\n",
              "      <td>pedestrian crossing</td>\n",
              "      <td>zebra</td>\n",
              "      <td>pedestrian crossing</td>\n",
              "      <td>zebra</td>\n",
              "      <td>4.860</td>\n",
              "      <td>4.860</td>\n",
              "      <td>pedestrian crossing</td>\n",
              "      <td>3.915</td>\n",
              "      <td>...</td>\n",
              "      <td>0.5670</td>\n",
              "      <td>pedestrian crossing</td>\n",
              "      <td>0.4935</td>\n",
              "      <td>0.4935</td>\n",
              "      <td>1.524078</td>\n",
              "      <td>-0.945</td>\n",
              "      <td>-0.0735</td>\n",
              "      <td>0.740268</td>\n",
              "      <td>1.241379</td>\n",
              "      <td>1.148936</td>\n",
              "    </tr>\n",
              "  </tbody>\n",
              "</table>\n",
              "<p>2941 rows × 29 columns</p>\n",
              "</div>\n",
              "      <button class=\"colab-df-convert\" onclick=\"convertToInteractive('df-cb2e0d94-38c9-4256-a129-3bdf04ab1bc9')\"\n",
              "              title=\"Convert this dataframe to an interactive table.\"\n",
              "              style=\"display:none;\">\n",
              "        \n",
              "  <svg xmlns=\"http://www.w3.org/2000/svg\" height=\"24px\"viewBox=\"0 0 24 24\"\n",
              "       width=\"24px\">\n",
              "    <path d=\"M0 0h24v24H0V0z\" fill=\"none\"/>\n",
              "    <path d=\"M18.56 5.44l.94 2.06.94-2.06 2.06-.94-2.06-.94-.94-2.06-.94 2.06-2.06.94zm-11 1L8.5 8.5l.94-2.06 2.06-.94-2.06-.94L8.5 2.5l-.94 2.06-2.06.94zm10 10l.94 2.06.94-2.06 2.06-.94-2.06-.94-.94-2.06-.94 2.06-2.06.94z\"/><path d=\"M17.41 7.96l-1.37-1.37c-.4-.4-.92-.59-1.43-.59-.52 0-1.04.2-1.43.59L10.3 9.45l-7.72 7.72c-.78.78-.78 2.05 0 2.83L4 21.41c.39.39.9.59 1.41.59.51 0 1.02-.2 1.41-.59l7.78-7.78 2.81-2.81c.8-.78.8-2.07 0-2.86zM5.41 20L4 18.59l7.72-7.72 1.47 1.35L5.41 20z\"/>\n",
              "  </svg>\n",
              "      </button>\n",
              "      \n",
              "  <style>\n",
              "    .colab-df-container {\n",
              "      display:flex;\n",
              "      flex-wrap:wrap;\n",
              "      gap: 12px;\n",
              "    }\n",
              "\n",
              "    .colab-df-convert {\n",
              "      background-color: #E8F0FE;\n",
              "      border: none;\n",
              "      border-radius: 50%;\n",
              "      cursor: pointer;\n",
              "      display: none;\n",
              "      fill: #1967D2;\n",
              "      height: 32px;\n",
              "      padding: 0 0 0 0;\n",
              "      width: 32px;\n",
              "    }\n",
              "\n",
              "    .colab-df-convert:hover {\n",
              "      background-color: #E2EBFA;\n",
              "      box-shadow: 0px 1px 2px rgba(60, 64, 67, 0.3), 0px 1px 3px 1px rgba(60, 64, 67, 0.15);\n",
              "      fill: #174EA6;\n",
              "    }\n",
              "\n",
              "    [theme=dark] .colab-df-convert {\n",
              "      background-color: #3B4455;\n",
              "      fill: #D2E3FC;\n",
              "    }\n",
              "\n",
              "    [theme=dark] .colab-df-convert:hover {\n",
              "      background-color: #434B5C;\n",
              "      box-shadow: 0px 1px 3px 1px rgba(0, 0, 0, 0.15);\n",
              "      filter: drop-shadow(0px 1px 2px rgba(0, 0, 0, 0.3));\n",
              "      fill: #FFFFFF;\n",
              "    }\n",
              "  </style>\n",
              "\n",
              "      <script>\n",
              "        const buttonEl =\n",
              "          document.querySelector('#df-cb2e0d94-38c9-4256-a129-3bdf04ab1bc9 button.colab-df-convert');\n",
              "        buttonEl.style.display =\n",
              "          google.colab.kernel.accessAllowed ? 'block' : 'none';\n",
              "\n",
              "        async function convertToInteractive(key) {\n",
              "          const element = document.querySelector('#df-cb2e0d94-38c9-4256-a129-3bdf04ab1bc9');\n",
              "          const dataTable =\n",
              "            await google.colab.kernel.invokeFunction('convertToInteractive',\n",
              "                                                     [key], {});\n",
              "          if (!dataTable) return;\n",
              "\n",
              "          const docLinkHtml = 'Like what you see? Visit the ' +\n",
              "            '<a target=\"_blank\" href=https://colab.research.google.com/notebooks/data_table.ipynb>data table notebook</a>'\n",
              "            + ' to learn more about interactive tables.';\n",
              "          element.innerHTML = '';\n",
              "          dataTable['output_type'] = 'display_data';\n",
              "          await google.colab.output.renderOutput(dataTable, element);\n",
              "          const docLink = document.createElement('div');\n",
              "          docLink.innerHTML = docLinkHtml;\n",
              "          element.appendChild(docLink);\n",
              "        }\n",
              "      </script>\n",
              "    </div>\n",
              "  </div>\n",
              "  "
            ]
          },
          "metadata": {},
          "execution_count": 122
        }
      ]
    },
    {
      "cell_type": "code",
      "source": [
        "shift_vars_df = shift_vars_df[~shift_vars_df[['freq_ratio', 'conc_ratio', 'val_ratio']].isin([np.nan, np.inf, -np.inf]).any(1)]"
      ],
      "metadata": {
        "id": "iULJDVFmd_Pe"
      },
      "execution_count": null,
      "outputs": []
    },
    {
      "cell_type": "code",
      "source": [
        "import random\n",
        "\n",
        "#df = shift_vars_df_filtered[['meaning1', 'meaning2', 'conc_diff', 'freq_diff', 'conc_ratio', 'freq_ratio']]\n",
        "df = shift_vars_df\n",
        "\n",
        "indices = list(range(len(df)))\n",
        "random.shuffle(indices)\n",
        "switch_indices = indices[:int(len(df)/2)]\n",
        "\n",
        "left_df = df.iloc[switch_indices].copy()\n",
        "left_df.loc[:,'meaning2'] = df['meaning1']\n",
        "left_df.loc[:,'meaning1'] = df['meaning2']\n",
        "left_df.loc[:,'conc_ratio'] = 1/left_df['conc_ratio']\n",
        "left_df.loc[:,'freq_ratio'] = 1/left_df['freq_ratio']\n",
        "left_df.loc[:,'val_ratio'] = 1/left_df['val_ratio']\n",
        "left_df.loc[:,'accurate'] = False\n",
        "\n",
        "right_df = df.iloc[indices[int(len(df)/2):]].copy()\n",
        "right_df.loc[:,'accurate'] = True\n",
        "\n",
        "shuffled_df = pd.concat([left_df, right_df]).sort_index()\n",
        "\n",
        "shuffled_df = shuffled_df[~np.isinf(shuffled_df['freq_ratio']) & ~(np.isinf(shuffled_df['conc_ratio']))]"
      ],
      "metadata": {
        "id": "R4cQBEyj4Kka"
      },
      "execution_count": null,
      "outputs": []
    },
    {
      "cell_type": "code",
      "source": [
        "shuffled_df = shuffled_df[shuffled_df['Type of change']!='synaesthesia']"
      ],
      "metadata": {
        "id": "LFD2EXDCfdri"
      },
      "execution_count": null,
      "outputs": []
    },
    {
      "cell_type": "code",
      "source": [
        "len(shuffled_df)"
      ],
      "metadata": {
        "colab": {
          "base_uri": "https://localhost:8080/"
        },
        "id": "kM4VIdj7fwsF",
        "outputId": "95a177e5-97ed-4f15-abdc-bc79d3e5ced3"
      },
      "execution_count": null,
      "outputs": [
        {
          "output_type": "execute_result",
          "data": {
            "text/plain": [
              "2573"
            ]
          },
          "metadata": {},
          "execution_count": 99
        }
      ]
    },
    {
      "cell_type": "code",
      "source": [
        "# logistic regression\n",
        "\n",
        "from sklearn.linear_model import LogisticRegression\n",
        "from sklearn.metrics import confusion_matrix\n",
        "\n",
        "shuffled_df['conc'] = np.where(shuffled_df['conc_ratio']>1, 1, 0)\n",
        "shuffled_df['freq'] = np.where(shuffled_df['freq_ratio']>1, 1, 0)\n",
        "shuffled_df['val'] = np.where(shuffled_df['val_ratio']>1, 1, 0)\n",
        "\n",
        "X = shuffled_df[['conc_ratio', 'freq_ratio', 'val_ratio']].copy().to_numpy()\n",
        "y = shuffled_df['accurate'].copy().to_numpy()\n",
        "\n",
        "acc = 0\n",
        "coefs = [0,0,0]\n",
        "\n",
        "for i in range(10):\n",
        "\n",
        "  X_train, X_test, y_train, y_test = train_test_split(X, y, test_size = 0.2)\n",
        "\n",
        "  model = LogisticRegression(solver='liblinear', class_weight='balanced').fit(X_train, y_train)\n",
        "\n",
        "  acc += model.score(X_test, y_test)\n",
        "\n",
        "  coefs += model.coef_\n",
        "\n",
        "acc /= 10\n",
        "print(acc)\n",
        "coefs /= 10\n",
        "print(coefs)\n",
        "\n",
        "print(model.score(X_test,y_test))\n",
        "\n",
        "print(confusion_matrix(y_test, model.predict(X_test)))\n",
        "\n",
        "# softmax normalization is making the frequency distribution unusable \n",
        "# and making the concreteness distribution slightly worse\n",
        "# but with neither of them normalized (and log frequency) we're getting ~60% accuracy "
      ],
      "metadata": {
        "colab": {
          "base_uri": "https://localhost:8080/"
        },
        "id": "krWppabosLEZ",
        "outputId": "e3ec0c54-82ba-4bdf-f013-8db01e508ee3"
      },
      "execution_count": null,
      "outputs": [
        {
          "output_type": "stream",
          "name": "stdout",
          "text": [
            "0.6963106796116506\n",
            "[[2.87595039 0.21069757 0.08864006]]\n",
            "0.7165048543689321\n",
            "[[217  54]\n",
            " [ 92 152]]\n"
          ]
        }
      ]
    },
    {
      "cell_type": "code",
      "source": [
        "model.coef_"
      ],
      "metadata": {
        "colab": {
          "base_uri": "https://localhost:8080/"
        },
        "id": "e_z1rayZbXZN",
        "outputId": "48a75689-8733-45ff-8133-229173a9c97f"
      },
      "execution_count": null,
      "outputs": [
        {
          "output_type": "execute_result",
          "data": {
            "text/plain": [
              "array([[2.88351678, 0.22094048, 0.09205973]])"
            ]
          },
          "metadata": {},
          "execution_count": 126
        }
      ]
    },
    {
      "cell_type": "code",
      "source": [
        "shuffled_df['ratio_accurate'] = shuffled_df['conc'] == shuffled_df['accurate']\n",
        "print(shuffled_df['ratio_accurate'].value_counts())\n",
        "print(\"accuracy: \", shuffled_df['ratio_accurate'].value_counts()[True] / len(shuffled_df), \"with \", len(shuffled_df) , \"samples\")"
      ],
      "metadata": {
        "colab": {
          "base_uri": "https://localhost:8080/"
        },
        "id": "Exs3TA73WOPp",
        "outputId": "2f1c440b-174c-4d74-bf9f-63e66aea8cc8"
      },
      "execution_count": null,
      "outputs": [
        {
          "output_type": "stream",
          "name": "stdout",
          "text": [
            "True     1823\n",
            "False     752\n",
            "Name: ratio_accurate, dtype: int64\n",
            "accuracy:  0.7079611650485437 with  2575 samples\n"
          ]
        }
      ]
    },
    {
      "cell_type": "code",
      "source": [
        ""
      ],
      "metadata": {
        "id": "JrBOA6AUfbzy"
      },
      "execution_count": null,
      "outputs": []
    }
  ]
}